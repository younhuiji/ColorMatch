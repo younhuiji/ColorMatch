{
  "nbformat": 4,
  "nbformat_minor": 0,
  "metadata": {
    "colab": {
      "provenance": [],
      "authorship_tag": "ABX9TyON5PsnKdDkSJPwNnQ+AWmG",
      "include_colab_link": true
    },
    "kernelspec": {
      "name": "python3",
      "display_name": "Python 3"
    },
    "language_info": {
      "name": "python"
    }
  },
  "cells": [
    {
      "cell_type": "markdown",
      "metadata": {
        "id": "view-in-github",
        "colab_type": "text"
      },
      "source": [
        "<a href=\"https://colab.research.google.com/github/younhuiji/python/blob/main/py05_list.ipynb\" target=\"_parent\"><img src=\"https://colab.research.google.com/assets/colab-badge.svg\" alt=\"Open In Colab\"/></a>"
      ]
    },
    {
      "cell_type": "markdown",
      "source": [
        "# List (리스트)\n",
        "\n",
        "list : 여러개의 값들을 하나의 변수에 저장하기 위한 데이터 타입.\n",
        "\n",
        "* element(원소, 요소): 리스트에 저장되는 각각의 값.\n",
        "* index(인덱스): 리스트에 원소들이 저장된 위치.\n",
        "    * 리스트의 인덱스는 **0부터** 시작\n",
        "    * 리스트의 마지막 인덱스는 **(원소 개수 -1)**\n",
        "* 리스트는 원소들을 추가/삭제/변경할 수 있음.\n",
        "    * `tuple`과 다른 점!"
      ],
      "metadata": {
        "id": "rZrK7cGZXkHO"
      }
    },
    {
      "cell_type": "code",
      "execution_count": null,
      "metadata": {
        "colab": {
          "base_uri": "https://localhost:8080/"
        },
        "id": "CElz7iafXCqY",
        "outputId": "c5ee9e67-e7f9-4c19-e395-80b32c2ac016"
      },
      "outputs": [
        {
          "output_type": "stream",
          "name": "stdout",
          "text": [
            "[1, 2, 3, 10, 20, 30]\n"
          ]
        }
      ],
      "source": [
        "# 숫자들을 저장하는 리스트\n",
        "numbers = [1, 2, 3, 10, 20, 30]\n",
        "print(numbers)"
      ]
    },
    {
      "cell_type": "code",
      "source": [
        "numbers"
      ],
      "metadata": {
        "colab": {
          "base_uri": "https://localhost:8080/"
        },
        "id": "o8OPToULZlGc",
        "outputId": "382f5b23-47e3-4e3f-b2c8-292bdc5bbce3"
      },
      "execution_count": null,
      "outputs": [
        {
          "output_type": "execute_result",
          "data": {
            "text/plain": [
              "[1, 2, 3, 10, 20, 30]"
            ]
          },
          "metadata": {},
          "execution_count": 2
        }
      ]
    },
    {
      "cell_type": "markdown",
      "source": [
        "## indexing\n",
        "\n",
        "인덱스를 사용해서 리스트에서 원소를 참조하는 방법."
      ],
      "metadata": {
        "id": "OTWO0wsQZSUN"
      }
    },
    {
      "cell_type": "code",
      "source": [
        "numbers[0] # 리스트의 첫번째 원소 값\n",
        "numbers[5] # 리스트의 마지막 원소 값\n",
        "numbers[-1] # 리스트 거꾸로 "
      ],
      "metadata": {
        "colab": {
          "base_uri": "https://localhost:8080/"
        },
        "id": "ynRN8p0GZwoS",
        "outputId": "461f9cae-6292-410d-c00b-8eb12e5e7c48"
      },
      "execution_count": null,
      "outputs": [
        {
          "output_type": "execute_result",
          "data": {
            "text/plain": [
              "30"
            ]
          },
          "metadata": {},
          "execution_count": 3
        }
      ]
    },
    {
      "cell_type": "markdown",
      "source": [
        "## slicing\n",
        "\n",
        "인덱스를 사용해서 리스트의 부분집합(리스트)를 잘라내는 방법.\n",
        "\n",
        "```\n",
        "list[start:end]\n",
        "```\n",
        "\n",
        "* start <= index < end 범위의 인덱스 위치의 원소들을 잘라냄.\n",
        "* start 를 생략한 경우에는 첫번째 원소부터 잘라냄. `list[:10] = list[0:10]`\n",
        "* end를 생략한 경우에는 마지막 원소까지 잘라냄.\n",
        "* 리스트를 slicing한 결과는 또다른 새로운 리스트!"
      ],
      "metadata": {
        "id": "vDfFgGKfbGEV"
      }
    },
    {
      "cell_type": "code",
      "source": [
        "# 리스트 numbers에서 첫번째 원소부터 순서대로 3개 잘라냄\n",
        "numbers[0:3]\n",
        "numbers[:3]"
      ],
      "metadata": {
        "colab": {
          "base_uri": "https://localhost:8080/"
        },
        "id": "zV24H0xYtdFo",
        "outputId": "631fc552-cc0a-4077-b582-efa66d9c789e"
      },
      "execution_count": null,
      "outputs": [
        {
          "output_type": "execute_result",
          "data": {
            "text/plain": [
              "[1, 2, 3]"
            ]
          },
          "metadata": {},
          "execution_count": 4
        }
      ]
    },
    {
      "cell_type": "code",
      "source": [
        "# 리스트 numbers에서 끝에서 3개의 원소를 잘라냄\n",
        "numbers[3:6]\n",
        "numbers[-3:]"
      ],
      "metadata": {
        "colab": {
          "base_uri": "https://localhost:8080/"
        },
        "id": "qs4ybSVxtkoP",
        "outputId": "e4906140-377d-4c42-dd1d-39311d2df288"
      },
      "execution_count": null,
      "outputs": [
        {
          "output_type": "execute_result",
          "data": {
            "text/plain": [
              "[10, 20, 30]"
            ]
          },
          "metadata": {},
          "execution_count": 5
        }
      ]
    },
    {
      "cell_type": "code",
      "source": [
        "print(numbers[0:1]) # slicing -> list\n",
        "print(numbers[0]) # indexing -> element"
      ],
      "metadata": {
        "colab": {
          "base_uri": "https://localhost:8080/"
        },
        "id": "EVZaAAeyvZz1",
        "outputId": "5ab6f1e2-f645-4572-80b5-01d93ea44d87"
      },
      "execution_count": null,
      "outputs": [
        {
          "output_type": "stream",
          "name": "stdout",
          "text": [
            "[1]\n",
            "1\n"
          ]
        }
      ]
    },
    {
      "cell_type": "markdown",
      "source": [
        "# 문자열\n",
        "\n",
        "문자열: 문자들의 리스트. indexing, slicing을 사용할 수 있음."
      ],
      "metadata": {
        "id": "IFmp_wXTv6qv"
      }
    },
    {
      "cell_type": "code",
      "source": [
        "message = '안녕하세요, 파이썬!' # 11개의 문자들을 원소로 갖는 문자열"
      ],
      "metadata": {
        "id": "TNtfG59IwGa9"
      },
      "execution_count": null,
      "outputs": []
    },
    {
      "cell_type": "code",
      "source": [
        "# 문자열의 첫 번째 글자\n",
        "message[0]"
      ],
      "metadata": {
        "colab": {
          "base_uri": "https://localhost:8080/",
          "height": 35
        },
        "id": "JvvPrqNEwTRN",
        "outputId": "88412ed8-6c55-4966-f370-98716d722227"
      },
      "execution_count": null,
      "outputs": [
        {
          "output_type": "execute_result",
          "data": {
            "text/plain": [
              "'안'"
            ],
            "application/vnd.google.colaboratory.intrinsic+json": {
              "type": "string"
            }
          },
          "metadata": {},
          "execution_count": 8
        }
      ]
    },
    {
      "cell_type": "code",
      "source": [
        "# 문자열의 마지막 글자\n",
        "message[-1]"
      ],
      "metadata": {
        "colab": {
          "base_uri": "https://localhost:8080/",
          "height": 35
        },
        "id": "hPgIK1Qawb6f",
        "outputId": "99ebe613-f55d-483c-8e32-d584227823db"
      },
      "execution_count": null,
      "outputs": [
        {
          "output_type": "execute_result",
          "data": {
            "text/plain": [
              "'!'"
            ],
            "application/vnd.google.colaboratory.intrinsic+json": {
              "type": "string"
            }
          },
          "metadata": {},
          "execution_count": 9
        }
      ]
    },
    {
      "cell_type": "code",
      "source": [
        "# 문자열 + 문자열\n",
        "'Hello' + 'Python'"
      ],
      "metadata": {
        "colab": {
          "base_uri": "https://localhost:8080/",
          "height": 35
        },
        "id": "hhwWxdCsxcs3",
        "outputId": "49d5db24-2f90-4d57-b3a2-852cac5fe46c"
      },
      "execution_count": null,
      "outputs": [
        {
          "output_type": "execute_result",
          "data": {
            "text/plain": [
              "'HelloPython'"
            ],
            "application/vnd.google.colaboratory.intrinsic+json": {
              "type": "string"
            }
          },
          "metadata": {},
          "execution_count": 10
        }
      ]
    },
    {
      "cell_type": "code",
      "source": [
        "# 문자열 * 정수 또는 정수 * 문자열\n",
        "'Hello' * 3"
      ],
      "metadata": {
        "id": "3lWH0T1vxff4",
        "colab": {
          "base_uri": "https://localhost:8080/",
          "height": 35
        },
        "outputId": "549ca21a-b4bf-4a47-baf4-f7e793d01fe4"
      },
      "execution_count": null,
      "outputs": [
        {
          "output_type": "execute_result",
          "data": {
            "text/plain": [
              "'HelloHelloHello'"
            ],
            "application/vnd.google.colaboratory.intrinsic+json": {
              "type": "string"
            }
          },
          "metadata": {},
          "execution_count": 11
        }
      ]
    },
    {
      "cell_type": "markdown",
      "source": [
        "# list의 산술 연산\n",
        "\n",
        "* `list + list`\n",
        "* `list * 정수`또는 `정수 * list`"
      ],
      "metadata": {
        "id": "vWxf008CxueA"
      }
    },
    {
      "cell_type": "code",
      "source": [
        "[1, 2, 3] + [4, 5, 6]"
      ],
      "metadata": {
        "colab": {
          "base_uri": "https://localhost:8080/"
        },
        "id": "k6ApiBnWx_cw",
        "outputId": "3828ee0a-0437-4c7c-f75f-14096f1eca5e"
      },
      "execution_count": null,
      "outputs": [
        {
          "output_type": "execute_result",
          "data": {
            "text/plain": [
              "[1, 2, 3, 4, 5, 6]"
            ]
          },
          "metadata": {},
          "execution_count": 12
        }
      ]
    },
    {
      "cell_type": "code",
      "source": [
        "[1, 2, 3] * 3"
      ],
      "metadata": {
        "colab": {
          "base_uri": "https://localhost:8080/"
        },
        "id": "vUnimMKPyCsr",
        "outputId": "d400b9b4-e7c1-478c-a503-912ea22c4b95"
      },
      "execution_count": null,
      "outputs": [
        {
          "output_type": "execute_result",
          "data": {
            "text/plain": [
              "[1, 2, 3, 1, 2, 3, 1, 2, 3]"
            ]
          },
          "metadata": {},
          "execution_count": 13
        }
      ]
    },
    {
      "cell_type": "markdown",
      "source": [
        "# list 객체의 기능(메서드)\n",
        "* `list.append(argument)` : 리스트의 가장 마지막에 새로운 원소(arg)를 추가.\n",
        "* `list.insert(index, value)` : 리스트의 index 위치에 value를 추가.\n",
        "* `list.extend(iterable)` : list + list2\n",
        "* `list.remove(value)` : 리스트에서 처음 등장하는 value를 삭제.\n",
        "* `list.pop(index)` : 리스트에서 index 위치에 있는 원소를 삭제.\n",
        "* `list.clear()` : 리스트 전체 원소 삭제.\n"
      ],
      "metadata": {
        "id": "I1RELXFTyWLg"
      }
    },
    {
      "cell_type": "code",
      "source": [
        "list1 = [1, 2, 3, 4, 5]"
      ],
      "metadata": {
        "id": "VJ4L8_yVz2GO"
      },
      "execution_count": null,
      "outputs": []
    },
    {
      "cell_type": "code",
      "source": [
        "list1.append(10)"
      ],
      "metadata": {
        "id": "0X_AS_OYz5-T"
      },
      "execution_count": null,
      "outputs": []
    },
    {
      "cell_type": "code",
      "source": [
        "list1"
      ],
      "metadata": {
        "colab": {
          "base_uri": "https://localhost:8080/"
        },
        "id": "FmWNsrCj0B7v",
        "outputId": "4f47c064-57ff-4402-fe06-9cf9410ccce6"
      },
      "execution_count": null,
      "outputs": [
        {
          "output_type": "execute_result",
          "data": {
            "text/plain": [
              "[1, 2, 3, 4, 5, 10]"
            ]
          },
          "metadata": {},
          "execution_count": 16
        }
      ]
    },
    {
      "cell_type": "code",
      "source": [
        "list1.extend([100])"
      ],
      "metadata": {
        "id": "OUgUh6KN0FwD"
      },
      "execution_count": null,
      "outputs": []
    },
    {
      "cell_type": "code",
      "source": [
        "list1.append([1, 2, 3, 5])"
      ],
      "metadata": {
        "id": "52r2-Wzv0bJ9"
      },
      "execution_count": null,
      "outputs": []
    },
    {
      "cell_type": "code",
      "source": [
        "list1.clear()"
      ],
      "metadata": {
        "id": "sVubxQBt1Yek"
      },
      "execution_count": null,
      "outputs": []
    },
    {
      "cell_type": "code",
      "source": [
        "list1"
      ],
      "metadata": {
        "colab": {
          "base_uri": "https://localhost:8080/"
        },
        "id": "1nMXWVMA1aLg",
        "outputId": "abd52cfe-93f9-4b3d-c07e-cf32ed08ee95"
      },
      "execution_count": null,
      "outputs": [
        {
          "output_type": "execute_result",
          "data": {
            "text/plain": [
              "[]"
            ]
          },
          "metadata": {},
          "execution_count": 20
        }
      ]
    },
    {
      "cell_type": "markdown",
      "source": [
        "# list와 for 반복문"
      ],
      "metadata": {
        "id": "lQ-58aQ_1vGu"
      }
    },
    {
      "cell_type": "code",
      "source": [
        "for x in '안녕하세요':\n",
        "    print(x) "
      ],
      "metadata": {
        "colab": {
          "base_uri": "https://localhost:8080/"
        },
        "id": "y3qozMGt1xKN",
        "outputId": "65ec0dbf-5e62-4dd0-b69e-ebdbde1d0c66"
      },
      "execution_count": null,
      "outputs": [
        {
          "output_type": "stream",
          "name": "stdout",
          "text": [
            "안\n",
            "녕\n",
            "하\n",
            "세\n",
            "요\n"
          ]
        }
      ]
    },
    {
      "cell_type": "code",
      "source": [
        "numbers=[1, 2, 4, 6, 7 ,8]\n",
        "for x in numbers:\n",
        "    print(x)"
      ],
      "metadata": {
        "colab": {
          "base_uri": "https://localhost:8080/"
        },
        "id": "Bu9gxoYO2PJd",
        "outputId": "006e4cba-a3f0-4d50-da4d-140713699f7b"
      },
      "execution_count": null,
      "outputs": [
        {
          "output_type": "stream",
          "name": "stdout",
          "text": [
            "1\n",
            "2\n",
            "4\n",
            "6\n",
            "7\n",
            "8\n"
          ]
        }
      ]
    },
    {
      "cell_type": "code",
      "source": [
        "for i, v in enumerate(numbers):\n",
        "    print(i, ':', v)"
      ],
      "metadata": {
        "colab": {
          "base_uri": "https://localhost:8080/"
        },
        "id": "nOboGDrl2Zrr",
        "outputId": "36f8cce8-0926-48ab-c94b-b5c59fdfcbe8"
      },
      "execution_count": null,
      "outputs": [
        {
          "output_type": "stream",
          "name": "stdout",
          "text": [
            "0 : 1\n",
            "1 : 2\n",
            "2 : 4\n",
            "3 : 6\n",
            "4 : 7\n",
            "5 : 8\n"
          ]
        }
      ]
    },
    {
      "cell_type": "markdown",
      "source": [
        "파이썬에서 난수 생성: `random` 모듈을 import하고 random 모듈의 함수를 사용."
      ],
      "metadata": {
        "id": "GS06nYga7uOE"
      }
    },
    {
      "cell_type": "code",
      "source": [
        "import random"
      ],
      "metadata": {
        "id": "abC_b9RU77Tv"
      },
      "execution_count": null,
      "outputs": []
    },
    {
      "cell_type": "code",
      "source": [
        "random.random() # [0, 1) 범위(0 <= x < 1)의 실수 난수 1개를 리턴."
      ],
      "metadata": {
        "colab": {
          "base_uri": "https://localhost:8080/"
        },
        "id": "3eYvuGb-7_e4",
        "outputId": "6c76ef52-46af-4ec9-b0a7-3b10611907d2"
      },
      "execution_count": null,
      "outputs": [
        {
          "output_type": "execute_result",
          "data": {
            "text/plain": [
              "0.020529246835400694"
            ]
          },
          "metadata": {},
          "execution_count": 25
        }
      ]
    },
    {
      "cell_type": "code",
      "source": [
        "random.randrange(10) # [0, 10) 범위의 정수 난수 1개를 리턴."
      ],
      "metadata": {
        "colab": {
          "base_uri": "https://localhost:8080/"
        },
        "id": "2FTmcuDs81xf",
        "outputId": "ff026300-251e-4404-b5fd-c0b89abe1941"
      },
      "execution_count": null,
      "outputs": [
        {
          "output_type": "execute_result",
          "data": {
            "text/plain": [
              "1"
            ]
          },
          "metadata": {},
          "execution_count": 26
        }
      ]
    },
    {
      "cell_type": "markdown",
      "source": [
        "# 연습 문제\n",
        "\n",
        "## Ex 1.\n",
        "1. 빈 리스트를 생성.\n",
        "1. 1 이상 10 이하의 정수 난수 5개를 저장.\n",
        "1. 리스트의 모든 정수들의 합을 출력.\n",
        "1. 리스트의 모든 정수들의 평균을 출력.\n"
      ],
      "metadata": {
        "id": "XeYd33R0-AJd"
      }
    },
    {
      "cell_type": "code",
      "source": [
        "list = []\n",
        "\n",
        "n = 1\n",
        "while n <= 5:\n",
        "    list.append(random.randrange(1, 11))\n",
        "    n+=1\n",
        "\n",
        "print('list :', list)\n",
        "\n",
        "total = 0\n",
        "for x in list:\n",
        "    total += x\n",
        "\n",
        "print('sum : ', total)\n",
        "print('avg :', total / 5)"
      ],
      "metadata": {
        "colab": {
          "base_uri": "https://localhost:8080/"
        },
        "id": "tKsiHw1n9Qw4",
        "outputId": "7ff7a093-e6bf-4431-c350-218bbfb1bf1b"
      },
      "execution_count": null,
      "outputs": [
        {
          "output_type": "stream",
          "name": "stdout",
          "text": [
            "list : [4, 8, 6, 9, 6]\n",
            "sum :  33\n",
            "avg : 6.6\n"
          ]
        }
      ]
    },
    {
      "cell_type": "code",
      "source": [
        "list = [ random.randrange(1, 11) for  _ in range(5)]\n",
        "print(list)\n",
        "\n",
        "total = sum(list)\n",
        "print('sum : ', total)\n",
        "\n",
        "print('avg :', total / len(list))"
      ],
      "metadata": {
        "colab": {
          "base_uri": "https://localhost:8080/"
        },
        "id": "pLMqLnsFW--I",
        "outputId": "f06aa034-cfbe-4275-c0d6-bd52b36ecf45"
      },
      "execution_count": null,
      "outputs": [
        {
          "output_type": "stream",
          "name": "stdout",
          "text": [
            "[8, 2, 7, 9, 3]\n",
            "sum :  29\n",
            "avg : 5.8\n"
          ]
        }
      ]
    },
    {
      "cell_type": "markdown",
      "source": [
        "## Ex 2.\n",
        "1. 빈 리스트(numbers)를 생성.\n",
        "1. 10 이상 100미만의 정수 난수 10개를 numbers에 저장.\n",
        "1. numbers에서 짝수들만 선택해서 evens 리스트 만둚.\n",
        "1. numbers에서 홀수들만 선택해서 odds 리스트 만듦.\n"
      ],
      "metadata": {
        "id": "o6wGltnE-bCz"
      }
    },
    {
      "cell_type": "code",
      "source": [
        "numbers = []\n",
        "n = 1\n",
        "while n <= 10:\n",
        "    numbers.append(random.randrange(10, 100))\n",
        "    n += 1\n",
        "\n",
        "print('numbers =', numbers) \n",
        "\n",
        "odds=[]\n",
        "evens=[]\n",
        "for x in numbers:\n",
        "    if(x % 2):\n",
        "        odds.append(x)\n",
        "    else:\n",
        "        evens.append(x)\n",
        "\n",
        "print('odds :', odds)\n",
        "print('evens :', evens)"
      ],
      "metadata": {
        "colab": {
          "base_uri": "https://localhost:8080/"
        },
        "id": "Hmc3IvJcA8os",
        "outputId": "eebb8027-2a3a-41de-c033-c780120132e7"
      },
      "execution_count": null,
      "outputs": [
        {
          "output_type": "stream",
          "name": "stdout",
          "text": [
            "numbers = [25, 55, 58, 64, 98, 27, 17, 20, 46, 60]\n",
            "odds : [25, 55, 27, 17]\n",
            "evens : [58, 64, 98, 20, 46, 60]\n"
          ]
        }
      ]
    },
    {
      "cell_type": "code",
      "source": [
        "numbers = [random.randrange(10, 100) for x in range(10)]\n",
        "print(numbers)\n",
        "\n",
        "evens = [x for x in numbers if x % 2 == 0]\n",
        "print(evens)\n",
        "\n",
        "odds = [x for x in numbers if x % 2 != 0]\n",
        "print(odds)"
      ],
      "metadata": {
        "colab": {
          "base_uri": "https://localhost:8080/"
        },
        "id": "SjlxB3N6X7u2",
        "outputId": "413a2bca-f14e-42c6-a703-2ba44e5a4367"
      },
      "execution_count": null,
      "outputs": [
        {
          "output_type": "stream",
          "name": "stdout",
          "text": [
            "[85, 48, 95, 82, 17, 80, 72, 23, 19, 15]\n",
            "[48, 82, 80, 72]\n",
            "[85, 95, 17, 23, 19, 15]\n"
          ]
        }
      ]
    },
    {
      "cell_type": "markdown",
      "source": [
        "## Ex 3. \n",
        "1. 빈 리스트 numbers를 만듦.\n",
        "1. -10 이상 10이하인 범위의 정수 난수 10개를 numbers에 저장.\n",
        "1. numbers의 원소가 양수이면 True, 그렇지 않으면 False 를 저장하는 is_positive 리스트를 만듦."
      ],
      "metadata": {
        "id": "Lq38JQEd_SLj"
      }
    },
    {
      "cell_type": "code",
      "source": [
        "numbers = []\n",
        "n = 1\n",
        "while n <= 10:\n",
        "    numbers.append(random.randrange(-10, 11))\n",
        "    n += 1\n",
        "\n",
        "print(numbers)\n",
        "\n",
        "in_positive=[]\n",
        "for x in numbers:\n",
        "    if (x < 0):\n",
        "        in_positive.append('False')\n",
        "    else :\n",
        "        in_positive.append('True')\n",
        "\n",
        "print('in_positive : ', in_positive)"
      ],
      "metadata": {
        "colab": {
          "base_uri": "https://localhost:8080/"
        },
        "id": "pJRnyZB4Cinr",
        "outputId": "3472310b-31e6-4b96-af43-bc919807c0e0"
      },
      "execution_count": null,
      "outputs": [
        {
          "output_type": "stream",
          "name": "stdout",
          "text": [
            "[-6, 0, -6, 4, 7, 10, 5, 8, 10, 2]\n",
            "in_positive :  ['False', 'True', 'False', 'True', 'True', 'True', 'True', 'True', 'True', 'True']\n"
          ]
        }
      ]
    },
    {
      "cell_type": "code",
      "source": [
        "# Java의 3항 연산자 - (조건식) ? 값1 : 값2\n",
        "# Python의 if-else 표현식(expression) - 값1 if 조건식 else 값2\n",
        "\n",
        "x = 3\n",
        "y = True if x > 0 else False\n",
        "print(y)"
      ],
      "metadata": {
        "colab": {
          "base_uri": "https://localhost:8080/"
        },
        "id": "4VvZTUmcX-te",
        "outputId": "3021c81c-6e21-4164-d089-89dde4f46d45"
      },
      "execution_count": null,
      "outputs": [
        {
          "output_type": "stream",
          "name": "stdout",
          "text": [
            "True\n"
          ]
        }
      ]
    },
    {
      "cell_type": "code",
      "source": [
        "numbers = [random.randrange(-10, 11) for x in range(10)]\n",
        "print (numbers)\n",
        "\n",
        "in_positive= [ False if x <0 else True for x in numbers ]\n",
        "print(in_positive)"
      ],
      "metadata": {
        "colab": {
          "base_uri": "https://localhost:8080/"
        },
        "id": "lYdQGMi0fuRE",
        "outputId": "7e3ff39f-722c-4cae-a1e7-d15bf804af17"
      },
      "execution_count": null,
      "outputs": [
        {
          "output_type": "stream",
          "name": "stdout",
          "text": [
            "[-4, 10, 2, 7, -10, 2, 0, 5, 10, 2]\n",
            "[False, True, True, True, False, True, True, True, True, True]\n"
          ]
        }
      ]
    },
    {
      "cell_type": "markdown",
      "source": [
        "Ex 4.\n",
        "1. gender_code 리스트에 0 또는 1을 랜덤하게 10개를 저장.\n",
        "1. gender_codes의 값이 0이면 'Male', 그렇지 않으면 'Female'을 저장하는 genders 리스트를 만듦. "
      ],
      "metadata": {
        "id": "tHUWGr99ACe7"
      }
    },
    {
      "cell_type": "code",
      "source": [
        "gender_code = []\n",
        "n =1 \n",
        "while n <= 10:\n",
        "    gender_code.append(random.randrange(0,2))\n",
        "    n+=1\n",
        "print('gender_code :', gender_code)\n",
        "\n",
        "genders=[]\n",
        "for x in gender_code:\n",
        "    if (x == 0):\n",
        "        genders.append('Male')\n",
        "    else :\n",
        "        genders.append('Female')\n",
        "\n",
        "print('genders :',genders)"
      ],
      "metadata": {
        "colab": {
          "base_uri": "https://localhost:8080/"
        },
        "id": "x2m2nMKNDdZj",
        "outputId": "ebce9c77-a29a-48b2-a145-1d09b62afeb6"
      },
      "execution_count": null,
      "outputs": [
        {
          "output_type": "stream",
          "name": "stdout",
          "text": [
            "gender_code : [1, 1, 1, 0, 1, 1, 1, 1, 0, 0]\n",
            "genders : ['Female', 'Female', 'Female', 'Male', 'Female', 'Female', 'Female', 'Female', 'Male', 'Male']\n"
          ]
        }
      ]
    },
    {
      "cell_type": "code",
      "source": [
        "gender_code=[random.randrange(0, 2) for x in range(10)]\n",
        "print(gender_code)\n",
        "\n",
        "genders =  ['Male' if x == 0 else 'Female' for x in gender_code]\n",
        "print (genders)"
      ],
      "metadata": {
        "colab": {
          "base_uri": "https://localhost:8080/"
        },
        "id": "xxJq4-oOYAEk",
        "outputId": "fa1a8bcd-ead0-4da0-cea4-4fe0fe1807a4"
      },
      "execution_count": null,
      "outputs": [
        {
          "output_type": "stream",
          "name": "stdout",
          "text": [
            "[1, 1, 0, 0, 1, 1, 1, 0, 1, 1]\n",
            "['Female', 'Female', 'Male', 'Male', 'Female', 'Female', 'Female', 'Male', 'Female', 'Female']\n"
          ]
        }
      ]
    },
    {
      "cell_type": "markdown",
      "source": [
        "# list comprehension(리스트 내포)\n",
        "\n",
        "1부터 10까지 정수들을 차례로 저장하고 있는 리스트\n"
      ],
      "metadata": {
        "id": "GhH803PMR2jS"
      }
    },
    {
      "cell_type": "code",
      "source": [
        "numbers=[]\n",
        "for _ in range(1,11):\n",
        "    numbers.append(_)\n",
        "print(numbers)"
      ],
      "metadata": {
        "colab": {
          "base_uri": "https://localhost:8080/"
        },
        "id": "tMMuo5cMR9dt",
        "outputId": "848fb532-afa3-4b2d-c95d-c4df4e2132fd"
      },
      "execution_count": null,
      "outputs": [
        {
          "output_type": "stream",
          "name": "stdout",
          "text": [
            "[1, 2, 3, 4, 5, 6, 7, 8, 9, 10]\n"
          ]
        }
      ]
    },
    {
      "cell_type": "code",
      "source": [
        "numbers = [x for x in range(1, 11)]\n",
        "print(numbers)"
      ],
      "metadata": {
        "colab": {
          "base_uri": "https://localhost:8080/"
        },
        "id": "W-iDXPFkSnyX",
        "outputId": "a3a20236-2ea4-4392-f972-6b76e2e38abd"
      },
      "execution_count": null,
      "outputs": [
        {
          "output_type": "stream",
          "name": "stdout",
          "text": [
            "[1, 2, 3, 4, 5, 6, 7, 8, 9, 10]\n"
          ]
        }
      ]
    },
    {
      "cell_type": "markdown",
      "source": [
        "Ex.\n",
        "1. 0 이상 10 미만의 난수 10개를 저장하는 리스트  numbers1을 만들고 출력.\n",
        "1. 0 이상 10 미만의 난수 10개를 저장하는 리스트 numbers2을 만들고 출력.\n",
        "1. numbers1과 numbers2에서 같은 인덱스의 원소들끼리의 합을 저장하는 리스트 adds를 만들고 출력.\n",
        "1. numbers1의 원소에서 number2의 원소를 뺀 값들은 저장하는 리스트 subtracts를 만들고 출력.\n",
        "1. numbers1과 numbers2에서 같은 인덱스의 원소들끼리의 곱을 저장하는 리스트 mutiplications를 만들고 출력."
      ],
      "metadata": {
        "id": "5P-u1fh-lJAL"
      }
    },
    {
      "cell_type": "code",
      "source": [
        "numbers1 = [random.randrange(0, 10) for x in range(10)]\n",
        "numbers2 = [random.randrange(0, 10) for x in range(10)]\n",
        "print('numbers1 :',numbers1)\n",
        "print('numbers2 :', numbers2)\n",
        "\n",
        "adds = [ numbers1[i]+ numbers2[i] for i in range(len(numbers1))]\n",
        "print('adds :', adds)  \n",
        "\n",
        "subtracts = [ numbers1[i]-numbers2[i] for i in range(len(numbers1)) ]\n",
        "print('subtracts :', subtracts)\n",
        "\n",
        "mutiplications = [numbers1[i] * numbers2[i] for i in range(len(numbers1)) ]\n",
        "print('mutiplications :', mutiplications)\n"
      ],
      "metadata": {
        "colab": {
          "base_uri": "https://localhost:8080/"
        },
        "id": "4RWIsgQCl9yu",
        "outputId": "d2c9c9fc-0ab3-48fb-ae99-99b0ab55e512"
      },
      "execution_count": null,
      "outputs": [
        {
          "output_type": "stream",
          "name": "stdout",
          "text": [
            "numbers1 : [0, 2, 2, 1, 1, 9, 2, 3, 8, 8]\n",
            "numbers2 : [9, 6, 2, 9, 8, 9, 3, 9, 9, 3]\n",
            "adds : [9, 8, 4, 10, 9, 18, 5, 12, 17, 11]\n",
            "subtracts : [-9, -4, 0, -8, -7, 0, -1, -6, -1, 5]\n",
            "mutiplications : [0, 12, 4, 9, 8, 81, 6, 27, 72, 24]\n"
          ]
        }
      ]
    },
    {
      "cell_type": "code",
      "source": [
        "# 다른 풀이식\n",
        "adds=[]\n",
        "subtracts=[]\n",
        "mutiplications=[]\n",
        "\n",
        "# for x, y in zip(numbers1, numbers2):\n",
        "#         adds.append(x + y)\n",
        "adds = [x + y for x, y in zip(numbers1, numbers2)]\n",
        "print(adds)\n",
        "\n",
        "subtracts = [x - y for x, y in zip(numbers1, numbers2) ]\n",
        "print(subtracts)\n",
        "\n",
        "mutiplications = [x * y for x, y in zip(numbers1, numbers2)]\n",
        "print(mutiplications)\n"
      ],
      "metadata": {
        "colab": {
          "base_uri": "https://localhost:8080/"
        },
        "id": "iCfsORahFd0e",
        "outputId": "b7482ada-5f84-4565-fe3e-efde128d0af5"
      },
      "execution_count": null,
      "outputs": [
        {
          "output_type": "stream",
          "name": "stdout",
          "text": [
            "[9, 8, 4, 10, 9, 18, 5, 12, 17, 11]\n",
            "[-9, -4, 0, -8, -7, 0, -1, -6, -1, 5]\n",
            "[0, 12, 4, 9, 8, 81, 6, 27, 72, 24]\n"
          ]
        }
      ]
    }
  ]
}