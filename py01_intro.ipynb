{
  "nbformat": 4,
  "nbformat_minor": 0,
  "metadata": {
    "colab": {
      "provenance": [],
      "toc_visible": true,
      "authorship_tag": "ABX9TyPFy1OJNCY7BNd/+kqYghtK",
      "include_colab_link": true
    },
    "kernelspec": {
      "name": "python3",
      "display_name": "Python 3"
    },
    "language_info": {
      "name": "python"
    }
  },
  "cells": [
    {
      "cell_type": "markdown",
      "metadata": {
        "id": "view-in-github",
        "colab_type": "text"
      },
      "source": [
        "<a href=\"https://colab.research.google.com/github/younhuiji/python/blob/main/py01_intro.ipynb\" target=\"_parent\"><img src=\"https://colab.research.google.com/assets/colab-badge.svg\" alt=\"Open In Colab\"/></a>"
      ]
    },
    {
      "cell_type": "markdown",
      "source": [
        "# Python 버전 확인\n",
        "\n",
        "\n",
        "\n"
      ],
      "metadata": {
        "id": "mVKEsxVZauDf"
      }
    },
    {
      "cell_type": "code",
      "execution_count": null,
      "metadata": {
        "colab": {
          "base_uri": "https://localhost:8080/"
        },
        "id": "Wta3TmhBZ6Lg",
        "outputId": "587e5cf4-876e-4fad-84c7-df198ef0d1ad"
      },
      "outputs": [
        {
          "output_type": "stream",
          "name": "stdout",
          "text": [
            "Python 3.8.16\n"
          ]
        }
      ],
      "source": [
        "!python --version"
      ]
    },
    {
      "cell_type": "markdown",
      "source": [
        "\n",
        "코드셀에서 명령창(cmb)에서 실행하는 문장을 작성하고 실행할 때는 !로 시작.\n",
        "\n"
      ],
      "metadata": {
        "id": "yk3ENYwritiV"
      }
    },
    {
      "cell_type": "markdown",
      "source": [
        "# print 함수"
      ],
      "metadata": {
        "id": "01u4cNjyjql9"
      }
    },
    {
      "cell_type": "code",
      "source": [
        "print('안녕, 파이썬 !')"
      ],
      "metadata": {
        "colab": {
          "base_uri": "https://localhost:8080/"
        },
        "id": "2xXxzGXYjxse",
        "outputId": "fc7a7991-7984-4043-aa97-663a83503bf1"
      },
      "execution_count": null,
      "outputs": [
        {
          "output_type": "stream",
          "name": "stdout",
          "text": [
            "안녕, 파이썬 !\n"
          ]
        }
      ]
    },
    {
      "cell_type": "code",
      "source": [
        "print('hello', 'python', '안녕', '파이썬')"
      ],
      "metadata": {
        "colab": {
          "base_uri": "https://localhost:8080/"
        },
        "id": "a16DPK_klRfs",
        "outputId": "cfe044cc-c68c-481d-b00e-7daa8b98ce0f"
      },
      "execution_count": null,
      "outputs": [
        {
          "output_type": "stream",
          "name": "stdout",
          "text": [
            "hello python 안녕 파이썬\n"
          ]
        }
      ]
    },
    {
      "cell_type": "markdown",
      "source": [
        "`print()` 함수에 여러개의 argument를 전달하면, argument들을 공백으로 연결해서 한 줄에 출력함."
      ],
      "metadata": {
        "id": "k7p-8bd9m4dc"
      }
    },
    {
      "cell_type": "code",
      "source": [
        "print('hello', 'python', sep='::')"
      ],
      "metadata": {
        "colab": {
          "base_uri": "https://localhost:8080/"
        },
        "id": "Z3eBITOUmJsL",
        "outputId": "74a28e5c-7016-4f5c-a21f-35894462bab9"
      },
      "execution_count": null,
      "outputs": [
        {
          "output_type": "stream",
          "name": "stdout",
          "text": [
            "hello::python\n"
          ]
        }
      ]
    },
    {
      "cell_type": "markdown",
      "source": [
        "## `format()` 메서드를 사용한 출력"
      ],
      "metadata": {
        "id": "2HBcOHp7n4Ck"
      }
    },
    {
      "cell_type": "code",
      "source": [
        "print('{} + {} = {}'.format(1,2,3))"
      ],
      "metadata": {
        "colab": {
          "base_uri": "https://localhost:8080/"
        },
        "id": "ItThtFpEnfNd",
        "outputId": "7bbba866-9451-4f54-c053-31a24b95b3fa"
      },
      "execution_count": null,
      "outputs": [
        {
          "output_type": "stream",
          "name": "stdout",
          "text": [
            "1 + 2 = 3\n"
          ]
        }
      ]
    },
    {
      "cell_type": "code",
      "source": [
        "print('{x} + {y} = {z}'.format(x=1, y=2, z=3))"
      ],
      "metadata": {
        "colab": {
          "base_uri": "https://localhost:8080/"
        },
        "id": "XUyUNrP2o3Gs",
        "outputId": "29cccdc0-0715-498b-a529-2a3fa1cfa1ec"
      },
      "execution_count": null,
      "outputs": [
        {
          "output_type": "stream",
          "name": "stdout",
          "text": [
            "1 + 2 = 3\n"
          ]
        }
      ]
    },
    {
      "cell_type": "markdown",
      "source": [
        "## formatted string을 사용한 출력\n",
        "Python 3.6 이상 버전에서만 사용 가능."
      ],
      "metadata": {
        "id": "b5_jG7_fphgr"
      }
    },
    {
      "cell_type": "code",
      "source": [
        "a = 18\n",
        "b = 20"
      ],
      "metadata": {
        "id": "nz-rRHMbpzys"
      },
      "execution_count": null,
      "outputs": []
    },
    {
      "cell_type": "code",
      "source": [
        "print(f'{a} + {b} = {a + b}')"
      ],
      "metadata": {
        "colab": {
          "base_uri": "https://localhost:8080/"
        },
        "id": "_T6hgF2dqA6m",
        "outputId": "ad61dff3-35e1-4853-d4a9-2f5677a3f3a3"
      },
      "execution_count": null,
      "outputs": [
        {
          "output_type": "stream",
          "name": "stdout",
          "text": [
            "18 + 20 = 38\n"
          ]
        }
      ]
    },
    {
      "cell_type": "markdown",
      "source": [
        "# 코드 셀 실행 방법\n",
        "* 코드셀 왼쪽의 실행 버튼 클릭\n",
        "* ctrl + enter : 현재 포커스가 있는 셀을 실행.\n",
        "* shift + enter : 현재 포커스가 있는 셀을 실행하고, 그 다음 셀로 포커스를 이동.\n",
        "     * 현재 셀 아래에 다음 셀이 없는 경우에는 새로운 코드 셀을 생성.\n",
        "* 런타임 메뉴 "
      ],
      "metadata": {
        "id": "19wsPB9Pu7Da"
      }
    },
    {
      "cell_type": "markdown",
      "source": [],
      "metadata": {
        "id": "bkJXv8VRu_nB"
      }
    }
  ]
}