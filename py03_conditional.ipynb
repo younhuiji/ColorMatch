{
  "nbformat": 4,
  "nbformat_minor": 0,
  "metadata": {
    "colab": {
      "provenance": [],
      "authorship_tag": "ABX9TyOHpEi4S0jpMpZclnqsoGW+",
      "include_colab_link": true
    },
    "kernelspec": {
      "name": "python3",
      "display_name": "Python 3"
    },
    "language_info": {
      "name": "python"
    }
  },
  "cells": [
    {
      "cell_type": "markdown",
      "metadata": {
        "id": "view-in-github",
        "colab_type": "text"
      },
      "source": [
        "<a href=\"https://colab.research.google.com/github/younhuiji/python/blob/main/py03_conditional.ipynb\" target=\"_parent\"><img src=\"https://colab.research.google.com/assets/colab-badge.svg\" alt=\"Open In Colab\"/></a>"
      ]
    },
    {
      "cell_type": "markdown",
      "source": [
        "# else가 없는 조건문\n",
        "```\n",
        "if 조건식:\n",
        "    조건식이 참일 때 실행할 코드 (블록)\n",
        "```\n",
        "\n",
        "* `if 조건식` 뒤에는 반드시 콜론(:)을 사용해야 함.\n",
        "* `if` 블록(조건식이 참일 때 실행하는 문장들)은 반드시 __같은 크기로__ 들여쓰기(indentation)를 해야 함.\n"
      ],
      "metadata": {
        "id": "pAQfo5Yt52-H"
      }
    },
    {
      "cell_type": "code",
      "execution_count": null,
      "metadata": {
        "id": "evTaa5r55djo"
      },
      "outputs": [],
      "source": [
        "n = 100"
      ]
    },
    {
      "cell_type": "code",
      "source": [
        "if n > 0:\n",
        "    print('양수')\n",
        "    print('if 블록 끝')\n",
        "\n",
        "print ('if 바깥')"
      ],
      "metadata": {
        "colab": {
          "base_uri": "https://localhost:8080/"
        },
        "id": "r9S296cQ7uoe",
        "outputId": "3f1048de-0838-4cb0-e033-99b5124bbbf9"
      },
      "execution_count": null,
      "outputs": [
        {
          "output_type": "stream",
          "name": "stdout",
          "text": [
            "양수\n",
            "if 바깥\n"
          ]
        }
      ]
    },
    {
      "cell_type": "markdown",
      "source": [
        "# else가 있는 조건문\n",
        "\n",
        "```\n",
        "if 조건식:\n",
        "    조건식이 참일 때 실행할 코드 블록\n",
        "else:\n",
        "    조건식이 거짓일 때 실행할 코드 블록\n",
        "```"
      ],
      "metadata": {
        "id": "IQlAhSCP9QCc"
      }
    },
    {
      "cell_type": "code",
      "source": [
        "n = int(input('정수를 입력>>> '))\n",
        "if n % 2: # 정수 n을 2로 나눈 나머지가 있으면(나머지가 0이 아니면)\n",
        "    print('홀수') # (1) 홀수\n",
        "else:\n",
        "    print('짝수') # (2) 짝수"
      ],
      "metadata": {
        "colab": {
          "base_uri": "https://localhost:8080/"
        },
        "id": "S8Q1vUb09p1V",
        "outputId": "f2d98551-1a46-435e-9d64-1335844d2ba5"
      },
      "execution_count": null,
      "outputs": [
        {
          "output_type": "stream",
          "name": "stdout",
          "text": [
            "정수를 입력>>> 46\n",
            "짝수\n"
          ]
        }
      ]
    },
    {
      "cell_type": "markdown",
      "source": [
        "Python에서 참(True)으로 취급하는 것들:\n",
        "\n",
        "* 0이 아닌 숫자들\n",
        "* 1개 이상의 글자를 가지고 있는 문자열\n",
        "* 1개 이상의 원소를 가지고 있는 리스트, ..."
      ],
      "metadata": {
        "id": "D8_7yH4X_C1L"
      }
    },
    {
      "cell_type": "markdown",
      "source": [
        "# chained conditional\n",
        "\n",
        "```\n",
        "if 조건식1:\n",
        "    조건식1이 참일 때 실행할 코드 블록\n",
        "elif 조건식2:\n",
        "    조건식2가 참일 때 실행할 코드 블록\n",
        "...\n",
        "else:\n",
        "    모든 조건식들을 만족하지 못 할때 코드 블록\n",
        "```"
      ],
      "metadata": {
        "id": "_eBPC4hL_pbj"
      }
    }
  ]
}