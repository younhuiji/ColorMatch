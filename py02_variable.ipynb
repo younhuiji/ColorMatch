{
  "nbformat": 4,
  "nbformat_minor": 0,
  "metadata": {
    "colab": {
      "provenance": [],
      "authorship_tag": "ABX9TyMyJ8IZIrc3y+Lyc1YEN8ky",
      "include_colab_link": true
    },
    "kernelspec": {
      "name": "python3",
      "display_name": "Python 3"
    },
    "language_info": {
      "name": "python"
    }
  },
  "cells": [
    {
      "cell_type": "markdown",
      "metadata": {
        "id": "view-in-github",
        "colab_type": "text"
      },
      "source": [
        "<a href=\"https://colab.research.google.com/github/younhuiji/python/blob/main/py02_variable.ipynb\" target=\"_parent\"><img src=\"https://colab.research.google.com/assets/colab-badge.svg\" alt=\"Open In Colab\"/></a>"
      ]
    },
    {
      "cell_type": "markdown",
      "source": [
        "# 파이썬 자료 타입\n",
        "* 숫자 타입\n",
        "    *  `int` : 정수\n",
        "    *  `float` : 실수\n",
        "    \n",
        "* 문자열 타입\n",
        "    * `str`\n",
        "\n",
        "* 논리 타입\n",
        "    * `bool` : True/False\n",
        "\n",
        "* 객체 타입\n",
        "\n",
        "파이썬은 변수를 선언할 때 자료 타입을 명시하지 않음! 변수의 자료 타입은 코드가 실행될 때 결정됨."
      ],
      "metadata": {
        "id": "lq2kRvxoyYvy"
      }
    },
    {
      "cell_type": "code",
      "source": [
        "# 주석 (comment)\n",
        "# 변수_이름 = 값\n",
        "n = 123\n",
        "print(n)\n",
        "print(type(n)) # type(argument) : arg의 자료 타입을 리턴."
      ],
      "metadata": {
        "colab": {
          "base_uri": "https://localhost:8080/"
        },
        "id": "flWzRFnxzvnY",
        "outputId": "31727e29-7a52-411f-988f-8e0c6eb49b4c"
      },
      "execution_count": null,
      "outputs": [
        {
          "output_type": "stream",
          "name": "stdout",
          "text": [
            "123\n",
            "<class 'int'>\n"
          ]
        }
      ]
    },
    {
      "cell_type": "code",
      "source": [
        "n = 3.14\n",
        "print(type(n))"
      ],
      "metadata": {
        "colab": {
          "base_uri": "https://localhost:8080/"
        },
        "id": "0FGwHduW1BVI",
        "outputId": "9b4e7652-3da1-40ba-9de2-0c7e6bd1694b"
      },
      "execution_count": null,
      "outputs": [
        {
          "output_type": "stream",
          "name": "stdout",
          "text": [
            "<class 'float'>\n"
          ]
        }
      ]
    },
    {
      "cell_type": "markdown",
      "source": [
        "식(experssion) : 값, 변수, 계산식(연산), 함수 호출\n",
        "\n",
        "문장(statement) : 코드의 최소 실행 단위.\n",
        "\n",
        "ipynb(IPython notebook) 코드셀에서 가장 마지막 줄에 있는 문장이 식(exoression)이면,\n",
        "\n",
        " 그 식을 평가한 결과를 콘솔 창에 출력. (print 함수를 사용하지 않아도 됨.)"
      ],
      "metadata": {
        "id": "tF3sgeZh1rqI"
      }
    },
    {
      "cell_type": "code",
      "source": [
        "x = 1\n",
        "y = 2\n",
        "# print(x + y)\n",
        "x + y"
      ],
      "metadata": {
        "colab": {
          "base_uri": "https://localhost:8080/"
        },
        "id": "xUZ8jvJj2k74",
        "outputId": "f4a6b26d-a233-4812-8729-1f6d6fbd3099"
      },
      "execution_count": null,
      "outputs": [
        {
          "output_type": "execute_result",
          "data": {
            "text/plain": [
              "3"
            ]
          },
          "metadata": {},
          "execution_count": 4
        }
      ]
    },
    {
      "cell_type": "markdown",
      "source": [
        "## 명시적 타입 변환\n",
        "\n",
        "* `int(값)` : 값을 정수 타입으로 변환해서 리턴.\n",
        "* `float(값)` : 값을 실수 타입으로 변환해서 리턴.\n",
        "* `str(깂)` : 값을 문자열 타입으로 리턴. \n",
        "\n"
      ],
      "metadata": {
        "id": "Mj1oTQ6o8Lh3"
      }
    },
    {
      "cell_type": "code",
      "source": [
        "# colab 노트북의 콘솔에서 입력 받는 방법 :\n",
        "n = input('정수 입력>>>> ')"
      ],
      "metadata": {
        "colab": {
          "base_uri": "https://localhost:8080/"
        },
        "id": "OnUPs51d8pB2",
        "outputId": "e0bf224c-8150-470f-f7fd-38b8701f178b"
      },
      "execution_count": null,
      "outputs": [
        {
          "name": "stdout",
          "output_type": "stream",
          "text": [
            "정수 입력>>>>1\n"
          ]
        }
      ]
    },
    {
      "cell_type": "code",
      "source": [
        "type(n)"
      ],
      "metadata": {
        "colab": {
          "base_uri": "https://localhost:8080/"
        },
        "id": "2Io67ubX9OWn",
        "outputId": "6adc3465-6e5e-4329-9b12-198fb2eb0e3e"
      },
      "execution_count": null,
      "outputs": [
        {
          "output_type": "execute_result",
          "data": {
            "text/plain": [
              "str"
            ]
          },
          "metadata": {},
          "execution_count": 6
        }
      ]
    },
    {
      "cell_type": "code",
      "source": [
        "n = int(n) # 변수 n의 타입을 int 타입으로 변환한 후 n에 저장."
      ],
      "metadata": {
        "id": "IiO_Rcvg9rPW"
      },
      "execution_count": null,
      "outputs": []
    },
    {
      "cell_type": "code",
      "source": [
        "type(n)"
      ],
      "metadata": {
        "colab": {
          "base_uri": "https://localhost:8080/"
        },
        "id": "jKbL49UP-Jum",
        "outputId": "e978afc9-7e08-400f-b019-34fd99400e46"
      },
      "execution_count": null,
      "outputs": [
        {
          "output_type": "execute_result",
          "data": {
            "text/plain": [
              "int"
            ]
          },
          "metadata": {},
          "execution_count": 8
        }
      ]
    },
    {
      "cell_type": "markdown",
      "source": [
        "# 산술 연산자\n",
        "\n",
        "숫자 타입에서 사용되는 산술 연산자: `+, -, *, /, //, %. **`\n",
        "\n",
        "* `/` : 소수점까지 계산하는 나눗셈.\n",
        "* `//` : 나눈 몫만 계산하는 나눗셈.\n",
        "* `%` : 나머지\n",
        "* `**` : 거듭 제곱\n",
        "\n",
        "\n"
      ],
      "metadata": {
        "id": "VaKubRLU-Zfg"
      }
    },
    {
      "cell_type": "code",
      "source": [
        "10 / 3"
      ],
      "metadata": {
        "colab": {
          "base_uri": "https://localhost:8080/"
        },
        "id": "fagwG2gd_hx-",
        "outputId": "b7a539e1-c175-4cc5-8a98-f93ecfdf592c"
      },
      "execution_count": null,
      "outputs": [
        {
          "output_type": "execute_result",
          "data": {
            "text/plain": [
              "3.3333333333333335"
            ]
          },
          "metadata": {},
          "execution_count": 13
        }
      ]
    },
    {
      "cell_type": "code",
      "source": [
        "10 // 3"
      ],
      "metadata": {
        "colab": {
          "base_uri": "https://localhost:8080/"
        },
        "id": "iTjTlj0a_qCF",
        "outputId": "9d74d871-f4ae-44c3-d537-9df19408b940"
      },
      "execution_count": null,
      "outputs": [
        {
          "output_type": "execute_result",
          "data": {
            "text/plain": [
              "3"
            ]
          },
          "metadata": {},
          "execution_count": 15
        }
      ]
    },
    {
      "cell_type": "code",
      "source": [
        "10 % 3"
      ],
      "metadata": {
        "colab": {
          "base_uri": "https://localhost:8080/"
        },
        "id": "nJEDR4hv_rW1",
        "outputId": "953d3d61-c089-4edc-9853-22847a8d082b"
      },
      "execution_count": null,
      "outputs": [
        {
          "output_type": "execute_result",
          "data": {
            "text/plain": [
              "1"
            ]
          },
          "metadata": {},
          "execution_count": 16
        }
      ]
    },
    {
      "cell_type": "code",
      "source": [
        "3 ** 3"
      ],
      "metadata": {
        "colab": {
          "base_uri": "https://localhost:8080/"
        },
        "id": "3oYWgezq_s-4",
        "outputId": "c1a8f68f-7aab-44eb-a669-a5203d6c97ee"
      },
      "execution_count": null,
      "outputs": [
        {
          "output_type": "execute_result",
          "data": {
            "text/plain": [
              "27"
            ]
          },
          "metadata": {},
          "execution_count": 17
        }
      ]
    },
    {
      "cell_type": "markdown",
      "source": [
        "## 문자열(str) 타입에서 사용할 수 있는 산술 연산자.\n",
        "\n",
        "* `+` : concatenate. 문자열 이어 붙이기\n",
        "* `*` : replicate. 문자열 복제"
      ],
      "metadata": {
        "id": "DRIOK1QdAJzd"
      }
    },
    {
      "cell_type": "code",
      "source": [
        "'Hello' + 'Python'"
      ],
      "metadata": {
        "colab": {
          "base_uri": "https://localhost:8080/",
          "height": 35
        },
        "id": "eZD6bg9cAmiN",
        "outputId": "a88256eb-31e0-4026-f28d-41d1d1ebb00c"
      },
      "execution_count": null,
      "outputs": [
        {
          "output_type": "execute_result",
          "data": {
            "text/plain": [
              "'HelloPython'"
            ],
            "application/vnd.google.colaboratory.intrinsic+json": {
              "type": "string"
            }
          },
          "metadata": {},
          "execution_count": 19
        }
      ]
    },
    {
      "cell_type": "code",
      "source": [
        "'Hello' * 5"
      ],
      "metadata": {
        "colab": {
          "base_uri": "https://localhost:8080/",
          "height": 35
        },
        "id": "Qa6UKMAHAq1x",
        "outputId": "670aa1a0-0367-45f0-9d20-d18a902e7c68"
      },
      "execution_count": null,
      "outputs": [
        {
          "output_type": "execute_result",
          "data": {
            "text/plain": [
              "'HelloHelloHelloHelloHello'"
            ],
            "application/vnd.google.colaboratory.intrinsic+json": {
              "type": "string"
            }
          },
          "metadata": {},
          "execution_count": 22
        }
      ]
    },
    {
      "cell_type": "markdown",
      "source": [
        "# 비교 연선자와 논리 연산자\n",
        "\n",
        "* 비교 연산자 : `==, !=, >, >=, <, <=`\n",
        "* 논리 연산자 : `and, or, not`"
      ],
      "metadata": {
        "id": "4bKNTEKRBGl9"
      }
    },
    {
      "cell_type": "code",
      "source": [
        "x = 100"
      ],
      "metadata": {
        "id": "zTiO3GriBoY5"
      },
      "execution_count": null,
      "outputs": []
    },
    {
      "cell_type": "code",
      "source": [
        "(x > 50 ) and (x < 150)"
      ],
      "metadata": {
        "colab": {
          "base_uri": "https://localhost:8080/"
        },
        "id": "5NRTTAQJBraB",
        "outputId": "35cf805c-127d-4024-bef0-ba2bd2d642ee"
      },
      "execution_count": null,
      "outputs": [
        {
          "output_type": "execute_result",
          "data": {
            "text/plain": [
              "True"
            ]
          },
          "metadata": {},
          "execution_count": 24
        }
      ]
    },
    {
      "cell_type": "code",
      "source": [
        "50 < x < 150"
      ],
      "metadata": {
        "colab": {
          "base_uri": "https://localhost:8080/"
        },
        "id": "54chlpqlByDq",
        "outputId": "bacdcf75-da27-4240-8ef6-efedf4cdbffa"
      },
      "execution_count": null,
      "outputs": [
        {
          "output_type": "execute_result",
          "data": {
            "text/plain": [
              "True"
            ]
          },
          "metadata": {},
          "execution_count": 25
        }
      ]
    },
    {
      "cell_type": "markdown",
      "source": [
        "# EX 1. 조건문\n",
        "* 3개의 정수를 입력받고 각각 변수에 저장.\n",
        "* 3개 정수의 평균을 소수점까지 계산하고 출력.\n",
        "* 평균이 90 이상면 A, 80 이상이면 B, 70 이상이면 C, 70 미만이면 F"
      ],
      "metadata": {
        "id": "9E0kJJ68Cvrt"
      }
    },
    {
      "cell_type": "code",
      "source": [
        "A = input('과목A 점수 >> ')\n",
        "B = input('과목B 점수 >> ')\n",
        "C = input('과목C 점수 >> ')\n",
        "A = int(A)\n",
        "B = int(B)\n",
        "C = int(C)"
      ],
      "metadata": {
        "colab": {
          "base_uri": "https://localhost:8080/"
        },
        "id": "YfRomHFLDMaK",
        "outputId": "efa59439-1a61-4c6e-c257-eb60e192341d"
      },
      "execution_count": null,
      "outputs": [
        {
          "name": "stdout",
          "output_type": "stream",
          "text": [
            "과목A 점수 >> 90\n",
            "과목B 점수 >> 95\n",
            "과목C 점수 >> 100\n"
          ]
        }
      ]
    },
    {
      "cell_type": "code",
      "source": [
        "average = (A + B + C) / 3\n",
        "print('평균 : ',average)"
      ],
      "metadata": {
        "colab": {
          "base_uri": "https://localhost:8080/"
        },
        "id": "A4hvB-W2EXus",
        "outputId": "983dcc25-fe70-4c7d-8dce-6edccb5703d6"
      },
      "execution_count": null,
      "outputs": [
        {
          "output_type": "stream",
          "name": "stdout",
          "text": [
            "평균 :  95.0\n"
          ]
        }
      ]
    },
    {
      "cell_type": "code",
      "source": [
        "if(average >= 90 ):\n",
        "    print('A')\n",
        "elif( average >= 80 ):\n",
        "    print('B')\n",
        "elif( average >= 70 ):\n",
        "    print('C')\n",
        "else:\n",
        "    print('F')"
      ],
      "metadata": {
        "colab": {
          "base_uri": "https://localhost:8080/"
        },
        "id": "2kqsaW_5E4fm",
        "outputId": "4188fd41-3387-452b-a20f-41ca870fd466"
      },
      "execution_count": null,
      "outputs": [
        {
          "output_type": "stream",
          "name": "stdout",
          "text": [
            "A\n"
          ]
        }
      ]
    },
    {
      "cell_type": "markdown",
      "source": [
        "# Ex 2. 반복문\n",
        "\n",
        "* 구구단 12단(12x1,...)을 출력"
      ],
      "metadata": {
        "id": "HLJE0xNWDmp1"
      }
    },
    {
      "cell_type": "code",
      "source": [
        "print('**12단을 출력**')\n",
        "x = 12\n",
        "for y in range(1, 13):\n",
        "    print(x, \"x\", y, \"=\",  x*y)"
      ],
      "metadata": {
        "colab": {
          "base_uri": "https://localhost:8080/"
        },
        "id": "i5nDFMUJF5yk",
        "outputId": "5fc64bc9-93ad-44f9-9900-c6f20c00f05e"
      },
      "execution_count": null,
      "outputs": [
        {
          "output_type": "stream",
          "name": "stdout",
          "text": [
            "**12단을 출력**\n",
            "12 x 1 = 12\n",
            "12 x 2 = 24\n",
            "12 x 3 = 36\n",
            "12 x 4 = 48\n",
            "12 x 5 = 60\n",
            "12 x 6 = 72\n",
            "12 x 7 = 84\n",
            "12 x 8 = 96\n",
            "12 x 9 = 108\n",
            "12 x 10 = 120\n",
            "12 x 11 = 132\n",
            "12 x 12 = 144\n"
          ]
        }
      ]
    }
  ]
}