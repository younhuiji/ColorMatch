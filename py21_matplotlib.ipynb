{
  "nbformat": 4,
  "nbformat_minor": 0,
  "metadata": {
    "colab": {
      "provenance": [],
      "include_colab_link": true
    },
    "kernelspec": {
      "name": "python3",
      "display_name": "Python 3"
    },
    "language_info": {
      "name": "python"
    }
  },
  "cells": [
    {
      "cell_type": "markdown",
      "metadata": {
        "id": "view-in-github",
        "colab_type": "text"
      },
      "source": [
        "<a href=\"https://colab.research.google.com/github/younhuiji/ColorMatch/blob/main/py21_matplotlib.ipynb\" target=\"_parent\"><img src=\"https://colab.research.google.com/assets/colab-badge.svg\" alt=\"Open In Colab\"/></a>"
      ]
    },
    {
      "cell_type": "markdown",
      "source": [
        "# Imports"
      ],
      "metadata": {
        "id": "RYQmjhVvBr07"
      }
    },
    {
      "cell_type": "code",
      "execution_count": null,
      "metadata": {
        "id": "6EQJwMBIBk_L"
      },
      "outputs": [],
      "source": [
        "import numpy as np\n",
        "import pandas as pd\n",
        "import matplotlib.pyplot as plt\n",
        "import seaborn as sns"
      ]
    },
    {
      "cell_type": "markdown",
      "source": [
        "# 데이터 셋"
      ],
      "metadata": {
        "id": "mNkrZgVvCX-4"
      }
    },
    {
      "cell_type": "code",
      "source": [
        "tips = sns.load_dataset('tips')"
      ],
      "metadata": {
        "id": "0Cb7XR1BB22R"
      },
      "execution_count": null,
      "outputs": []
    },
    {
      "cell_type": "code",
      "source": [
        "tips.head()"
      ],
      "metadata": {
        "colab": {
          "base_uri": "https://localhost:8080/",
          "height": 206
        },
        "id": "yN5S8uvUCiWg",
        "outputId": "4c13ae22-991d-439e-fdcb-3ed0500d66c4"
      },
      "execution_count": null,
      "outputs": [
        {
          "output_type": "execute_result",
          "data": {
            "text/plain": [
              "   total_bill   tip     sex smoker  day    time  size\n",
              "0       16.99  1.01  Female     No  Sun  Dinner     2\n",
              "1       10.34  1.66    Male     No  Sun  Dinner     3\n",
              "2       21.01  3.50    Male     No  Sun  Dinner     3\n",
              "3       23.68  3.31    Male     No  Sun  Dinner     2\n",
              "4       24.59  3.61  Female     No  Sun  Dinner     4"
            ],
            "text/html": [
              "\n",
              "  <div id=\"df-f5c4484a-b46e-4a1b-9ee5-156ecbb13bc7\">\n",
              "    <div class=\"colab-df-container\">\n",
              "      <div>\n",
              "<style scoped>\n",
              "    .dataframe tbody tr th:only-of-type {\n",
              "        vertical-align: middle;\n",
              "    }\n",
              "\n",
              "    .dataframe tbody tr th {\n",
              "        vertical-align: top;\n",
              "    }\n",
              "\n",
              "    .dataframe thead th {\n",
              "        text-align: right;\n",
              "    }\n",
              "</style>\n",
              "<table border=\"1\" class=\"dataframe\">\n",
              "  <thead>\n",
              "    <tr style=\"text-align: right;\">\n",
              "      <th></th>\n",
              "      <th>total_bill</th>\n",
              "      <th>tip</th>\n",
              "      <th>sex</th>\n",
              "      <th>smoker</th>\n",
              "      <th>day</th>\n",
              "      <th>time</th>\n",
              "      <th>size</th>\n",
              "    </tr>\n",
              "  </thead>\n",
              "  <tbody>\n",
              "    <tr>\n",
              "      <th>0</th>\n",
              "      <td>16.99</td>\n",
              "      <td>1.01</td>\n",
              "      <td>Female</td>\n",
              "      <td>No</td>\n",
              "      <td>Sun</td>\n",
              "      <td>Dinner</td>\n",
              "      <td>2</td>\n",
              "    </tr>\n",
              "    <tr>\n",
              "      <th>1</th>\n",
              "      <td>10.34</td>\n",
              "      <td>1.66</td>\n",
              "      <td>Male</td>\n",
              "      <td>No</td>\n",
              "      <td>Sun</td>\n",
              "      <td>Dinner</td>\n",
              "      <td>3</td>\n",
              "    </tr>\n",
              "    <tr>\n",
              "      <th>2</th>\n",
              "      <td>21.01</td>\n",
              "      <td>3.50</td>\n",
              "      <td>Male</td>\n",
              "      <td>No</td>\n",
              "      <td>Sun</td>\n",
              "      <td>Dinner</td>\n",
              "      <td>3</td>\n",
              "    </tr>\n",
              "    <tr>\n",
              "      <th>3</th>\n",
              "      <td>23.68</td>\n",
              "      <td>3.31</td>\n",
              "      <td>Male</td>\n",
              "      <td>No</td>\n",
              "      <td>Sun</td>\n",
              "      <td>Dinner</td>\n",
              "      <td>2</td>\n",
              "    </tr>\n",
              "    <tr>\n",
              "      <th>4</th>\n",
              "      <td>24.59</td>\n",
              "      <td>3.61</td>\n",
              "      <td>Female</td>\n",
              "      <td>No</td>\n",
              "      <td>Sun</td>\n",
              "      <td>Dinner</td>\n",
              "      <td>4</td>\n",
              "    </tr>\n",
              "  </tbody>\n",
              "</table>\n",
              "</div>\n",
              "      <button class=\"colab-df-convert\" onclick=\"convertToInteractive('df-f5c4484a-b46e-4a1b-9ee5-156ecbb13bc7')\"\n",
              "              title=\"Convert this dataframe to an interactive table.\"\n",
              "              style=\"display:none;\">\n",
              "        \n",
              "  <svg xmlns=\"http://www.w3.org/2000/svg\" height=\"24px\"viewBox=\"0 0 24 24\"\n",
              "       width=\"24px\">\n",
              "    <path d=\"M0 0h24v24H0V0z\" fill=\"none\"/>\n",
              "    <path d=\"M18.56 5.44l.94 2.06.94-2.06 2.06-.94-2.06-.94-.94-2.06-.94 2.06-2.06.94zm-11 1L8.5 8.5l.94-2.06 2.06-.94-2.06-.94L8.5 2.5l-.94 2.06-2.06.94zm10 10l.94 2.06.94-2.06 2.06-.94-2.06-.94-.94-2.06-.94 2.06-2.06.94z\"/><path d=\"M17.41 7.96l-1.37-1.37c-.4-.4-.92-.59-1.43-.59-.52 0-1.04.2-1.43.59L10.3 9.45l-7.72 7.72c-.78.78-.78 2.05 0 2.83L4 21.41c.39.39.9.59 1.41.59.51 0 1.02-.2 1.41-.59l7.78-7.78 2.81-2.81c.8-.78.8-2.07 0-2.86zM5.41 20L4 18.59l7.72-7.72 1.47 1.35L5.41 20z\"/>\n",
              "  </svg>\n",
              "      </button>\n",
              "      \n",
              "  <style>\n",
              "    .colab-df-container {\n",
              "      display:flex;\n",
              "      flex-wrap:wrap;\n",
              "      gap: 12px;\n",
              "    }\n",
              "\n",
              "    .colab-df-convert {\n",
              "      background-color: #E8F0FE;\n",
              "      border: none;\n",
              "      border-radius: 50%;\n",
              "      cursor: pointer;\n",
              "      display: none;\n",
              "      fill: #1967D2;\n",
              "      height: 32px;\n",
              "      padding: 0 0 0 0;\n",
              "      width: 32px;\n",
              "    }\n",
              "\n",
              "    .colab-df-convert:hover {\n",
              "      background-color: #E2EBFA;\n",
              "      box-shadow: 0px 1px 2px rgba(60, 64, 67, 0.3), 0px 1px 3px 1px rgba(60, 64, 67, 0.15);\n",
              "      fill: #174EA6;\n",
              "    }\n",
              "\n",
              "    [theme=dark] .colab-df-convert {\n",
              "      background-color: #3B4455;\n",
              "      fill: #D2E3FC;\n",
              "    }\n",
              "\n",
              "    [theme=dark] .colab-df-convert:hover {\n",
              "      background-color: #434B5C;\n",
              "      box-shadow: 0px 1px 3px 1px rgba(0, 0, 0, 0.15);\n",
              "      filter: drop-shadow(0px 1px 2px rgba(0, 0, 0, 0.3));\n",
              "      fill: #FFFFFF;\n",
              "    }\n",
              "  </style>\n",
              "\n",
              "      <script>\n",
              "        const buttonEl =\n",
              "          document.querySelector('#df-f5c4484a-b46e-4a1b-9ee5-156ecbb13bc7 button.colab-df-convert');\n",
              "        buttonEl.style.display =\n",
              "          google.colab.kernel.accessAllowed ? 'block' : 'none';\n",
              "\n",
              "        async function convertToInteractive(key) {\n",
              "          const element = document.querySelector('#df-f5c4484a-b46e-4a1b-9ee5-156ecbb13bc7');\n",
              "          const dataTable =\n",
              "            await google.colab.kernel.invokeFunction('convertToInteractive',\n",
              "                                                     [key], {});\n",
              "          if (!dataTable) return;\n",
              "\n",
              "          const docLinkHtml = 'Like what you see? Visit the ' +\n",
              "            '<a target=\"_blank\" href=https://colab.research.google.com/notebooks/data_table.ipynb>data table notebook</a>'\n",
              "            + ' to learn more about interactive tables.';\n",
              "          element.innerHTML = '';\n",
              "          dataTable['output_type'] = 'display_data';\n",
              "          await google.colab.output.renderOutput(dataTable, element);\n",
              "          const docLink = document.createElement('div');\n",
              "          docLink.innerHTML = docLinkHtml;\n",
              "          element.appendChild(docLink);\n",
              "        }\n",
              "      </script>\n",
              "    </div>\n",
              "  </div>\n",
              "  "
            ]
          },
          "metadata": {},
          "execution_count": 135
        }
      ]
    },
    {
      "cell_type": "code",
      "source": [
        "tips.info()"
      ],
      "metadata": {
        "colab": {
          "base_uri": "https://localhost:8080/"
        },
        "id": "kiFw7WxFCkCA",
        "outputId": "f4da8c1c-9fa3-4470-f2a3-df0805d2bacf"
      },
      "execution_count": null,
      "outputs": [
        {
          "output_type": "stream",
          "name": "stdout",
          "text": [
            "<class 'pandas.core.frame.DataFrame'>\n",
            "RangeIndex: 244 entries, 0 to 243\n",
            "Data columns (total 7 columns):\n",
            " #   Column      Non-Null Count  Dtype   \n",
            "---  ------      --------------  -----   \n",
            " 0   total_bill  244 non-null    float64 \n",
            " 1   tip         244 non-null    float64 \n",
            " 2   sex         244 non-null    category\n",
            " 3   smoker      244 non-null    category\n",
            " 4   day         244 non-null    category\n",
            " 5   time        244 non-null    category\n",
            " 6   size        244 non-null    int64   \n",
            "dtypes: category(4), float64(2), int64(1)\n",
            "memory usage: 7.4 KB\n"
          ]
        }
      ]
    },
    {
      "cell_type": "markdown",
      "source": [
        "# `matplotlib.pyplot` 모듈을 사용한 시각화\n",
        "\n",
        "1. `figure` 객체 생성.\n",
        "1. `figure` 객체에 subplot(axis)을 생성해서 추가.\n",
        "1. subplot에 그래프 그림.\n",
        "1. 그래프의 여러가지 옵션들을 설정.\n",
        "1. 그래프 보여주기.\n"
      ],
      "metadata": {
        "id": "X6eCWnDtC0lh"
      }
    },
    {
      "cell_type": "code",
      "source": [
        "# 1. figure 객체 생성\n",
        "fig = plt.figure()\n",
        "\n",
        "# 2. 생성된 figure 객체에 suplot을 추가\n",
        "axis = fig.add_subplot(1, 1, 1)  # add_subplot()에서 인덱스는 1부터 시작!\n",
        "\n",
        "# 3. subplot에 그래프 종류를 선택해서 그림.\n",
        "axis.hist(x=tips['total_bill'])\n",
        "\n",
        "# 4. 그래프의 옵션 설정\n",
        "axis.grid()\n",
        "axis.set_xlabel('Total Bill')\n",
        "axis.set_ylabel('Conut')\n",
        "axis.set_title('Histogram')\n",
        "\n",
        "# 5. 그래프 보여주기\n",
        "plt.show()"
      ],
      "metadata": {
        "colab": {
          "base_uri": "https://localhost:8080/",
          "height": 295
        },
        "id": "eYMCOr-BCngY",
        "outputId": "eae81df5-d351-4cb3-a77b-c989611a23d7"
      },
      "execution_count": null,
      "outputs": [
        {
          "output_type": "display_data",
          "data": {
            "text/plain": [
              "<Figure size 432x288 with 1 Axes>"
            ],
            "image/png": "[encoded data removed]"
          },
          "metadata": {
            "needs_background": "light"
          }
        }
      ]
    },
    {
      "cell_type": "markdown",
      "source": [
        "2개의 subplot을 상하로 배치하고 그래프를 그리기."
      ],
      "metadata": {
        "id": "vqbYpD-vLCPG"
      }
    },
    {
      "cell_type": "code",
      "source": [
        "# 1. figure 생성\n",
        "fig = plt.figure(figsize=(6, 8))\n",
        "\n",
        "# 2. subplot 추가\n",
        "ax1 = fig.add_subplot(2, 1, 1)  # add_subplot(211)\n",
        "ax2 = fig.add_subplot(212)  # add_subplot(2, 1, 2)와 동일.\n",
        "\n",
        "# 3. 각 subplot에 그래프 그림.\n",
        "ax1.hist(x=tips.total_bill)  # 히스토그램\n",
        "ax2.scatter(x=tips.total_bill, y=tips.tip)  # 산점도\n",
        "\n",
        "# 4. 옵션 설정.\n",
        "ax1.set_title('Histogram')\n",
        "ax2.set_title('Scatter plot')\n",
        "ax2.set_xlabel('Total Bill')\n",
        "ax2.set_ylabel('Tip')\n",
        "\n",
        "# 5. 보여주기\n",
        "plt.show()"
      ],
      "metadata": {
        "colab": {
          "base_uri": "https://localhost:8080/",
          "height": 513
        },
        "id": "7aR70jQlLJBR",
        "outputId": "40ea9d8f-ee15-4110-ea1b-cd554669afab"
      },
      "execution_count": null,
      "outputs": [
        {
          "output_type": "display_data",
          "data": {
            "text/plain": [
              "<Figure size 432x576 with 2 Axes>"
            ],
            "image/png": "[encoded data removed]"
          },
          "metadata": {
            "needs_background": "light"
          }
        }
      ]
    },
    {
      "cell_type": "markdown",
      "source": [
        "2개의 subplot을 좌우로 배치해서 그래프 그리기."
      ],
      "metadata": {
        "id": "V8erRvJJOxsn"
      }
    },
    {
      "cell_type": "code",
      "source": [
        "fig = plt.figure(figsize=(12, 3))  # figsize=(width, height)\n",
        "\n",
        "ax1 = fig.add_subplot(121)  # add_subplot(1, 2, 1)\n",
        "ax2 = fig.add_subplot(122)  # add_subplot(1, 2, 2)\n",
        "\n",
        "ax1.hist(tips.total_bill)\n",
        "ax1.grid()\n",
        "ax1.set_xlabel('Total bill')\n",
        "ax1.set_title('Histogram')\n",
        "\n",
        "ax2.scatter(x=tips.total_bill, y=tips.tip)\n",
        "ax2.grid()\n",
        "ax2.set_xlabel('Total bill')\n",
        "ax2.set_ylabel('Tip')\n",
        "ax2.set_title('Scatter plot')\n",
        "\n",
        "plt.show()"
      ],
      "metadata": {
        "colab": {
          "base_uri": "https://localhost:8080/",
          "height": 241
        },
        "id": "_45cROQcP0aO",
        "outputId": "1b971b6c-532b-4984-9a26-b4ff18b76bd3"
      },
      "execution_count": null,
      "outputs": [
        {
          "output_type": "display_data",
          "data": {
            "text/plain": [
              "<Figure size 864x216 with 2 Axes>"
            ],
            "image/png": "[encoded data removed]"
          },
          "metadata": {
            "needs_background": "light"
          }
        }
      ]
    },
    {
      "cell_type": "markdown",
      "source": [
        "## `plt.subplots()` 함수\n",
        "\n",
        "figure 객체 생성(`plt.figure()`) + subplot 추가(`figure.add_subplot()`)"
      ],
      "metadata": {
        "id": "y1pMkP9dRyx-"
      }
    },
    {
      "cell_type": "markdown",
      "source": [
        "1개의 figure에 1개의 subplot이 있는 경우"
      ],
      "metadata": {
        "id": "UdPeGNfUSSj1"
      }
    },
    {
      "cell_type": "code",
      "source": [
        "# 1. figure 생성.  2. subplot 생성.\n",
        "fig, ax = plt.subplots()  # nrows=1, ncols=1\n",
        "\n",
        "# 3. 그래프 그리기.\n",
        "ax.hist(x=tips.total_bill)\n",
        "\n",
        "# 4. 옵션 설정.\n",
        "ax.grid()\n",
        "\n",
        "# 5. 그래프 보여주기.\n",
        "plt.show()"
      ],
      "metadata": {
        "colab": {
          "base_uri": "https://localhost:8080/",
          "height": 265
        },
        "id": "viaz8DuxSWwo",
        "outputId": "d5fa53e8-fd6e-437c-a964-ce3f71bbe69b"
      },
      "execution_count": null,
      "outputs": [
        {
          "output_type": "display_data",
          "data": {
            "text/plain": [
              "<Figure size 432x288 with 1 Axes>"
            ],
            "image/png": "[encoded data removed]"
          },
          "metadata": {
            "needs_background": "light"
          }
        }
      ]
    },
    {
      "cell_type": "markdown",
      "source": [
        "`plt.subplots()` 함수를 사용해서 히스토그램과 산점도를 상/하로 배치"
      ],
      "metadata": {
        "id": "oZgFtNFkTSIO"
      }
    },
    {
      "cell_type": "code",
      "source": [
        "fig, ax = plt.subplots(nrows=2, figsize=(6, 8))\n",
        "# print(ax)  # -> 1차원 ndarray\n",
        "\n",
        "ax[0].hist(x=tips.total_bill)\n",
        "ax[1].scatter(x=tips.total_bill, y=tips.tip)\n",
        "\n",
        "plt.show()"
      ],
      "metadata": {
        "colab": {
          "base_uri": "https://localhost:8080/",
          "height": 483
        },
        "id": "q7pJrIf3TRwu",
        "outputId": "ad1758dd-bb1c-490f-c39b-5e8854695519"
      },
      "execution_count": null,
      "outputs": [
        {
          "output_type": "display_data",
          "data": {
            "text/plain": [
              "<Figure size 432x576 with 2 Axes>"
            ],
            "image/png": "[encoded data removed]"
          },
          "metadata": {
            "needs_background": "light"
          }
        }
      ]
    },
    {
      "cell_type": "markdown",
      "source": [
        "`plt.subplots()` 함수를 사용해서 히스토그램과 산점도를 좌/우로 배치"
      ],
      "metadata": {
        "id": "8zDqZRA6TZcl"
      }
    },
    {
      "cell_type": "code",
      "source": [
        "fig, ax = plt.subplots(ncols=2, figsize=(12, 3))\n",
        "# print(ax) # -> 1차원 ndarray\n",
        "\n",
        "ax[0].hist(x=tips.total_bill)\n",
        "ax[1].scatter(x=tips.total_bill, y=tips.tip)\n",
        "\n",
        "plt.show()"
      ],
      "metadata": {
        "colab": {
          "base_uri": "https://localhost:8080/",
          "height": 212
        },
        "id": "yLX2Ka3kTcmV",
        "outputId": "1f65979a-3fbf-4856-b8e8-614bc7566f9c"
      },
      "execution_count": null,
      "outputs": [
        {
          "output_type": "display_data",
          "data": {
            "text/plain": [
              "<Figure size 864x216 with 2 Axes>"
            ],
            "image/png": "[encoded data removed]"
          },
          "metadata": {
            "needs_background": "light"
          }
        }
      ]
    },
    {
      "cell_type": "markdown",
      "source": [
        "## `pyplot` 모듈의 top-level 함수\n",
        "\n",
        "figure 1개 생성, subplot 1개 생성, 그래프를 그림."
      ],
      "metadata": {
        "id": "cafiJFqOa9n8"
      }
    },
    {
      "cell_type": "code",
      "source": [
        "# 1. figure 생성.  2. subplot 1개 생성.  3. 그래프 그림.\n",
        "plt.hist(x=tips.total_bill)\n",
        "\n",
        "# 4. 옵션 설정.\n",
        "plt.title('Histogram')\n",
        "\n",
        "# 5. 그래프 그리기.\n",
        "plt.show()"
      ],
      "metadata": {
        "colab": {
          "base_uri": "https://localhost:8080/",
          "height": 281
        },
        "id": "1W9q_XyhbBZm",
        "outputId": "357968b7-af26-4d52-dd44-47b9c4cf6100"
      },
      "execution_count": null,
      "outputs": [
        {
          "output_type": "display_data",
          "data": {
            "text/plain": [
              "<Figure size 432x288 with 1 Axes>"
            ],
            "image/png": "[encoded data removed]"
          },
          "metadata": {
            "needs_background": "light"
          }
        }
      ]
    },
    {
      "cell_type": "markdown",
      "source": [
        "# Box Plot(상자 그림)\n",
        "\n",
        "숫자 타입 변수(컬럼)의 기술 통계량(descriptive statistics)을 상자 모양으로 시각화.\n",
        "\n",
        "* 최솟값, 최댓값, 4분위값(25%, 중앙값, 75%)\n"
      ],
      "metadata": {
        "id": "9CvPfL8bcAnF"
      }
    },
    {
      "cell_type": "code",
      "source": [
        "# tips 데이터프레임에서 total_bill 변수(컬럼)의 기술 통계량\n",
        "tips.total_bill.describe()"
      ],
      "metadata": {
        "colab": {
          "base_uri": "https://localhost:8080/"
        },
        "id": "igcVJ_6WcnUE",
        "outputId": "c7c81396-2251-4cd3-8c6c-8c0118ff14c7"
      },
      "execution_count": null,
      "outputs": [
        {
          "output_type": "execute_result",
          "data": {
            "text/plain": [
              "count    244.000000\n",
              "mean      19.785943\n",
              "std        8.902412\n",
              "min        3.070000\n",
              "25%       13.347500\n",
              "50%       17.795000\n",
              "75%       24.127500\n",
              "max       50.810000\n",
              "Name: total_bill, dtype: float64"
            ]
          },
          "metadata": {},
          "execution_count": 144
        }
      ]
    },
    {
      "cell_type": "code",
      "source": [
        "plt.boxplot(x=tips.total_bill)\n",
        "plt.grid()\n",
        "plt.show()"
      ],
      "metadata": {
        "colab": {
          "base_uri": "https://localhost:8080/",
          "height": 265
        },
        "id": "Y627gDQ3dAGj",
        "outputId": "b7096ab4-7f7d-4953-9831-83e034a4f4ec"
      },
      "execution_count": null,
      "outputs": [
        {
          "output_type": "display_data",
          "data": {
            "text/plain": [
              "<Figure size 432x288 with 1 Axes>"
            ],
            "image/png": "[encoded data removed]"
          },
          "metadata": {
            "needs_background": "light"
          }
        }
      ]
    },
    {
      "cell_type": "code",
      "source": [
        "plt.boxplot(x=tips.tip)\n",
        "plt.grid()\n",
        "plt.show()"
      ],
      "metadata": {
        "colab": {
          "base_uri": "https://localhost:8080/",
          "height": 265
        },
        "id": "xpHgGdWBgFyT",
        "outputId": "a3b1dd06-e2e6-4492-f38b-50757226a6c2"
      },
      "execution_count": null,
      "outputs": [
        {
          "output_type": "display_data",
          "data": {
            "text/plain": [
              "<Figure size 432x288 with 1 Axes>"
            ],
            "image/png": "[encoded data removed]"
          },
          "metadata": {
            "needs_background": "light"
          }
        }
      ]
    },
    {
      "cell_type": "code",
      "source": [
        "tips.tip.describe()"
      ],
      "metadata": {
        "colab": {
          "base_uri": "https://localhost:8080/"
        },
        "id": "49_Ock3EgOxr",
        "outputId": "62a06a5e-6758-47fe-e338-5ca1fb801bea"
      },
      "execution_count": null,
      "outputs": [
        {
          "output_type": "execute_result",
          "data": {
            "text/plain": [
              "count    244.000000\n",
              "mean       2.998279\n",
              "std        1.383638\n",
              "min        1.000000\n",
              "25%        2.000000\n",
              "50%        2.900000\n",
              "75%        3.562500\n",
              "max       10.000000\n",
              "Name: tip, dtype: float64"
            ]
          },
          "metadata": {},
          "execution_count": 147
        }
      ]
    },
    {
      "cell_type": "markdown",
      "source": [
        "# Histogram(히스토그램)\n",
        "\n",
        "연속형 자료를 구간으로 나눠서 구간 안에 포함된 자료의 개수를 막대의 높이로 표현한 그래프."
      ],
      "metadata": {
        "id": "Gv7gK_4IklbC"
      }
    },
    {
      "cell_type": "code",
      "source": [
        "plt.hist(x=tips.total_bill, bins=15, edgecolor='black', color='gray')\n",
        "#> x: 히스토그램을 그리기 위한 자료(변수)\n",
        "#> bins: 막대 개수 또는 구간\n",
        "#> color: 막대 안쪽을 채우는 색깔\n",
        "#> edgecolor: 막대 테두리 선 색깔\n",
        "\n",
        "plt.title('Histogram')\n",
        "plt.xlabel('Total bill')\n",
        "plt.ylabel('Count')\n",
        "plt.grid()\n",
        "\n",
        "plt.show()"
      ],
      "metadata": {
        "colab": {
          "base_uri": "https://localhost:8080/",
          "height": 295
        },
        "id": "xgT9SSnQmvV6",
        "outputId": "cfc7a5bd-cf84-44a4-c177-c732f5683372"
      },
      "execution_count": null,
      "outputs": [
        {
          "output_type": "display_data",
          "data": {
            "text/plain": [
              "<Figure size 432x288 with 1 Axes>"
            ],
            "image/png": "[encoded data removed]"
          },
          "metadata": {
            "needs_background": "light"
          }
        }
      ]
    },
    {
      "cell_type": "code",
      "source": [
        "# tip의 히스토그램\n",
        "plt.hist(x=tips.tip, edgecolor='black', color='dodgerblue')\n",
        "plt.xlabel('Tip')\n",
        "plt.show()"
      ],
      "metadata": {
        "colab": {
          "base_uri": "https://localhost:8080/",
          "height": 279
        },
        "id": "JxMHq7HWpIOh",
        "outputId": "8000fd04-11a2-40ac-e2d4-9297ce0fd41f"
      },
      "execution_count": null,
      "outputs": [
        {
          "output_type": "display_data",
          "data": {
            "text/plain": [
              "<Figure size 432x288 with 1 Axes>"
            ],
            "image/png": "[encoded data removed]"
          },
          "metadata": {
            "needs_background": "light"
          }
        }
      ]
    },
    {
      "cell_type": "markdown",
      "source": [
        "# Bar plot(막대 그래프)\n",
        "\n",
        "카테고리 타입 변수의 빈도수를 막대로 표현한 그래프.\n"
      ],
      "metadata": {
        "id": "xxgJWIlVqMJx"
      }
    },
    {
      "cell_type": "code",
      "source": [
        "# 성별 빈도수\n",
        "gender_counts = tips.sex.value_counts()\n",
        "gender_counts  # -> Series"
      ],
      "metadata": {
        "colab": {
          "base_uri": "https://localhost:8080/"
        },
        "id": "w3VsJdPKqsdC",
        "outputId": "8a8628ba-833d-4556-9526-8b227c26655e"
      },
      "execution_count": null,
      "outputs": [
        {
          "output_type": "execute_result",
          "data": {
            "text/plain": [
              "Male      157\n",
              "Female     87\n",
              "Name: sex, dtype: int64"
            ]
          },
          "metadata": {},
          "execution_count": 150
        }
      ]
    },
    {
      "cell_type": "code",
      "source": [
        "print(gender_counts.index)\n",
        "print(gender_counts.values)"
      ],
      "metadata": {
        "colab": {
          "base_uri": "https://localhost:8080/"
        },
        "id": "EevswXVdroup",
        "outputId": "d9d101ef-bb59-4afe-ca85-158fe662f2dd"
      },
      "execution_count": null,
      "outputs": [
        {
          "output_type": "stream",
          "name": "stdout",
          "text": [
            "CategoricalIndex(['Male', 'Female'], categories=['Male', 'Female'], ordered=False, dtype='category')\n",
            "[157  87]\n"
          ]
        }
      ]
    },
    {
      "cell_type": "code",
      "source": [
        "plt.bar(x=gender_counts.index, height=gender_counts.values, width=0.4)\n",
        "plt.show()"
      ],
      "metadata": {
        "colab": {
          "base_uri": "https://localhost:8080/",
          "height": 265
        },
        "id": "GRpr4GPVrLio",
        "outputId": "42938cdc-4021-4275-e95d-71fa53b0ee24"
      },
      "execution_count": null,
      "outputs": [
        {
          "output_type": "display_data",
          "data": {
            "text/plain": [
              "<Figure size 432x288 with 1 Axes>"
            ],
            "image/png": "[encoded data removed]"
          },
          "metadata": {
            "needs_background": "light"
          }
        }
      ]
    },
    {
      "cell_type": "markdown",
      "source": [
        "가로 막대 그래프"
      ],
      "metadata": {
        "id": "TOyLt8tpsdap"
      }
    },
    {
      "cell_type": "code",
      "source": [
        "plt.barh(y=gender_counts.index, width=gender_counts.values, height=0.4)\n",
        "plt.show()"
      ],
      "metadata": {
        "colab": {
          "base_uri": "https://localhost:8080/",
          "height": 265
        },
        "id": "lqaOeQIvsfuZ",
        "outputId": "e1b5a345-a817-473b-8ffd-eb1260db0e18"
      },
      "execution_count": null,
      "outputs": [
        {
          "output_type": "display_data",
          "data": {
            "text/plain": [
              "<Figure size 432x288 with 1 Axes>"
            ],
            "image/png": "[encoded data removed]"
          },
          "metadata": {
            "needs_background": "light"
          }
        }
      ]
    },
    {
      "cell_type": "markdown",
      "source": [
        "# Exercises"
      ],
      "metadata": {
        "id": "feLL_kcjtiwY"
      }
    },
    {
      "cell_type": "markdown",
      "source": [
        "## Ex 1. 요일 막대 그래프(요일 빈도수)\n",
        "\n",
        "* 세로 막대 그래프\n",
        "* 가로 막대 그래프\n"
      ],
      "metadata": {
        "id": "iu8vsGqgtm-I"
      }
    },
    {
      "cell_type": "code",
      "source": [
        "day_counts = tips.day.value_counts()\n",
        "plt.bar(x=day_counts.index, height=day_counts.values)\n",
        "plt.show()"
      ],
      "metadata": {
        "colab": {
          "base_uri": "https://localhost:8080/",
          "height": 265
        },
        "id": "dvUcBCd2Q2BI",
        "outputId": "65165ddd-c27f-4b8d-b65f-86d7da890e50"
      },
      "execution_count": null,
      "outputs": [
        {
          "output_type": "display_data",
          "data": {
            "text/plain": [
              "<Figure size 432x288 with 1 Axes>"
            ],
            "image/png": "[encoded data removed]"
          },
          "metadata": {
            "needs_background": "light"
          }
        }
      ]
    },
    {
      "cell_type": "code",
      "source": [
        "plt.barh(y=day_counts.index, width=day_counts.values)\n",
        "plt.show()"
      ],
      "metadata": {
        "colab": {
          "base_uri": "https://localhost:8080/",
          "height": 265
        },
        "id": "cYEAR05NSHan",
        "outputId": "2205b1ff-21b5-4b6f-92a6-80dc8be3927b"
      },
      "execution_count": null,
      "outputs": [
        {
          "output_type": "display_data",
          "data": {
            "text/plain": [
              "<Figure size 432x288 with 1 Axes>"
            ],
            "image/png": "[encoded data removed]"
          },
          "metadata": {
            "needs_background": "light"
          }
        }
      ]
    },
    {
      "cell_type": "markdown",
      "source": [
        "## Ex 2. 흡연여부 막대 그래프(흡연자/비흡연자 빈도수)\n",
        "\n",
        "* 세로 막대 그래프\n",
        "* 가로 막대 그래프\n"
      ],
      "metadata": {
        "id": "YLt6IRCRtwD_"
      }
    },
    {
      "cell_type": "code",
      "source": [
        "smoker_counts = tips.smoker.value_counts()  # tips['smoker'].value_counts()\n",
        "smoker_counts"
      ],
      "metadata": {
        "colab": {
          "base_uri": "https://localhost:8080/"
        },
        "id": "gjtDqA7XSfIA",
        "outputId": "a4427166-0b98-491a-b9d9-72c3af390438"
      },
      "execution_count": null,
      "outputs": [
        {
          "output_type": "execute_result",
          "data": {
            "text/plain": [
              "No     151\n",
              "Yes     93\n",
              "Name: smoker, dtype: int64"
            ]
          },
          "metadata": {},
          "execution_count": 156
        }
      ]
    },
    {
      "cell_type": "code",
      "source": [
        "plt.bar(x=smoker_counts.index, height=smoker_counts.values)\n",
        "plt.show()"
      ],
      "metadata": {
        "colab": {
          "base_uri": "https://localhost:8080/",
          "height": 265
        },
        "id": "3x7pI1EUSssY",
        "outputId": "f8395c36-6b0a-4987-de5b-3d708aa0c30f"
      },
      "execution_count": null,
      "outputs": [
        {
          "output_type": "display_data",
          "data": {
            "text/plain": [
              "<Figure size 432x288 with 1 Axes>"
            ],
            "image/png": "[encoded data removed]"
          },
          "metadata": {
            "needs_background": "light"
          }
        }
      ]
    },
    {
      "cell_type": "code",
      "source": [
        "plt.barh(y=smoker_counts.index, width=smoker_counts.values)\n",
        "plt.show()"
      ],
      "metadata": {
        "colab": {
          "base_uri": "https://localhost:8080/",
          "height": 265
        },
        "id": "-042aA2RS-NI",
        "outputId": "3c398aba-eea4-46fa-fb62-c2106cb90c94"
      },
      "execution_count": null,
      "outputs": [
        {
          "output_type": "display_data",
          "data": {
            "text/plain": [
              "<Figure size 432x288 with 1 Axes>"
            ],
            "image/png": "[encoded data removed]"
          },
          "metadata": {
            "needs_background": "light"
          }
        }
      ]
    },
    {
      "cell_type": "markdown",
      "source": [
        "## Ex 3. 식사 인원 막대 그래프\n",
        "\n",
        "* 세로 막대 그래프\n",
        "* 가로 막대 그래프\n"
      ],
      "metadata": {
        "id": "uBSM6JkCt3LA"
      }
    },
    {
      "cell_type": "code",
      "source": [
        "size_counts = tips['size'].value_counts()\n",
        "size_counts"
      ],
      "metadata": {
        "colab": {
          "base_uri": "https://localhost:8080/"
        },
        "id": "VE1M674JTG_K",
        "outputId": "63243592-9984-4d91-e2bf-47bc9215748d"
      },
      "execution_count": null,
      "outputs": [
        {
          "output_type": "execute_result",
          "data": {
            "text/plain": [
              "2    156\n",
              "3     38\n",
              "4     37\n",
              "5      5\n",
              "1      4\n",
              "6      4\n",
              "Name: size, dtype: int64"
            ]
          },
          "metadata": {},
          "execution_count": 159
        }
      ]
    },
    {
      "cell_type": "code",
      "source": [
        "plt.bar(x=size_counts.index, height=size_counts.values)\n",
        "plt.show()"
      ],
      "metadata": {
        "colab": {
          "base_uri": "https://localhost:8080/",
          "height": 265
        },
        "id": "NJSYxlnvT3DI",
        "outputId": "4a81dc7b-6c73-4b0a-dc6c-162b46f4097c"
      },
      "execution_count": null,
      "outputs": [
        {
          "output_type": "display_data",
          "data": {
            "text/plain": [
              "<Figure size 432x288 with 1 Axes>"
            ],
            "image/png": "[encoded data removed]"
          },
          "metadata": {
            "needs_background": "light"
          }
        }
      ]
    },
    {
      "cell_type": "code",
      "source": [
        "plt.barh(y=size_counts.index, width=size_counts.values)\n",
        "plt.show()"
      ],
      "metadata": {
        "colab": {
          "base_uri": "https://localhost:8080/",
          "height": 265
        },
        "id": "Rn3FrXDQUQr_",
        "outputId": "c2d2da4d-c154-4964-8efa-0cba80c497fe"
      },
      "execution_count": null,
      "outputs": [
        {
          "output_type": "display_data",
          "data": {
            "text/plain": [
              "<Figure size 432x288 with 1 Axes>"
            ],
            "image/png": "[encoded data removed]"
          },
          "metadata": {
            "needs_background": "light"
          }
        }
      ]
    },
    {
      "cell_type": "markdown",
      "source": [
        "## Ex 4. 성별 tip의 box plot을 하나의 subplot에 그리기."
      ],
      "metadata": {
        "id": "gCOVWESnuJlQ"
      }
    },
    {
      "cell_type": "code",
      "source": [
        "tips.sex.unique()"
      ],
      "metadata": {
        "colab": {
          "base_uri": "https://localhost:8080/"
        },
        "id": "84ecMUUnUre6",
        "outputId": "af6fcc84-00b5-4b66-b4d3-eff819f33b76"
      },
      "execution_count": null,
      "outputs": [
        {
          "output_type": "execute_result",
          "data": {
            "text/plain": [
              "['Female', 'Male']\n",
              "Categories (2, object): ['Male', 'Female']"
            ]
          },
          "metadata": {},
          "execution_count": 162
        }
      ]
    },
    {
      "cell_type": "code",
      "source": [
        "tip_female = tips[tips.sex == 'Female']['tip']\n",
        "tip_female"
      ],
      "metadata": {
        "colab": {
          "base_uri": "https://localhost:8080/"
        },
        "id": "mwaCjaq3VL3u",
        "outputId": "5230c351-7338-432a-8c93-fbe9b77343f0"
      },
      "execution_count": null,
      "outputs": [
        {
          "output_type": "execute_result",
          "data": {
            "text/plain": [
              "0      1.01\n",
              "4      3.61\n",
              "11     5.00\n",
              "14     3.02\n",
              "16     1.67\n",
              "       ... \n",
              "226    2.00\n",
              "229    2.88\n",
              "238    4.67\n",
              "240    2.00\n",
              "243    3.00\n",
              "Name: tip, Length: 87, dtype: float64"
            ]
          },
          "metadata": {},
          "execution_count": 163
        }
      ]
    },
    {
      "cell_type": "code",
      "source": [
        "tip_female.describe()"
      ],
      "metadata": {
        "colab": {
          "base_uri": "https://localhost:8080/"
        },
        "id": "H8uzJKdUV7Wg",
        "outputId": "1dfe2320-791e-4645-8e7e-b4ba71463cdf"
      },
      "execution_count": null,
      "outputs": [
        {
          "output_type": "execute_result",
          "data": {
            "text/plain": [
              "count    87.000000\n",
              "mean      2.833448\n",
              "std       1.159495\n",
              "min       1.000000\n",
              "25%       2.000000\n",
              "50%       2.750000\n",
              "75%       3.500000\n",
              "max       6.500000\n",
              "Name: tip, dtype: float64"
            ]
          },
          "metadata": {},
          "execution_count": 164
        }
      ]
    },
    {
      "cell_type": "code",
      "source": [
        "plt.boxplot(x=tip_female, labels=['Female'])\n",
        "plt.show()"
      ],
      "metadata": {
        "colab": {
          "base_uri": "https://localhost:8080/",
          "height": 265
        },
        "id": "UTnH7M3PVp9Z",
        "outputId": "11dbc59a-caa0-44fb-9c0e-1f5cb1178b70"
      },
      "execution_count": null,
      "outputs": [
        {
          "output_type": "display_data",
          "data": {
            "text/plain": [
              "<Figure size 432x288 with 1 Axes>"
            ],
            "image/png": "[encoded data removed]"
          },
          "metadata": {
            "needs_background": "light"
          }
        }
      ]
    },
    {
      "cell_type": "code",
      "source": [
        "tip_male = tips[tips.sex == 'Male']['tip']\n",
        "tip_male"
      ],
      "metadata": {
        "colab": {
          "base_uri": "https://localhost:8080/"
        },
        "id": "IN_nCT8qXId4",
        "outputId": "412fe085-01e9-4686-de54-e3bdfbf945a5"
      },
      "execution_count": null,
      "outputs": [
        {
          "output_type": "execute_result",
          "data": {
            "text/plain": [
              "1      1.66\n",
              "2      3.50\n",
              "3      3.31\n",
              "5      4.71\n",
              "6      2.00\n",
              "       ... \n",
              "236    1.00\n",
              "237    1.17\n",
              "239    5.92\n",
              "241    2.00\n",
              "242    1.75\n",
              "Name: tip, Length: 157, dtype: float64"
            ]
          },
          "metadata": {},
          "execution_count": 166
        }
      ]
    },
    {
      "cell_type": "code",
      "source": [
        "tip_male.describe()"
      ],
      "metadata": {
        "colab": {
          "base_uri": "https://localhost:8080/"
        },
        "id": "jy2gCXp4XX_u",
        "outputId": "7f83c6fe-354f-491e-c008-3bfa1b28c6da"
      },
      "execution_count": null,
      "outputs": [
        {
          "output_type": "execute_result",
          "data": {
            "text/plain": [
              "count    157.000000\n",
              "mean       3.089618\n",
              "std        1.489102\n",
              "min        1.000000\n",
              "25%        2.000000\n",
              "50%        3.000000\n",
              "75%        3.760000\n",
              "max       10.000000\n",
              "Name: tip, dtype: float64"
            ]
          },
          "metadata": {},
          "execution_count": 167
        }
      ]
    },
    {
      "cell_type": "code",
      "source": [
        "plt.boxplot(x=tip_male, labels=['Male'])\n",
        "plt.show()"
      ],
      "metadata": {
        "colab": {
          "base_uri": "https://localhost:8080/",
          "height": 265
        },
        "id": "64pC_Et_XdCu",
        "outputId": "be566284-8590-4b7e-9e59-b852144a4e5e"
      },
      "execution_count": null,
      "outputs": [
        {
          "output_type": "display_data",
          "data": {
            "text/plain": [
              "<Figure size 432x288 with 1 Axes>"
            ],
            "image/png": "[encoded data removed]"
          },
          "metadata": {
            "needs_background": "light"
          }
        }
      ]
    },
    {
      "cell_type": "code",
      "source": [
        "plt.boxplot(x=np.array([tip_female, tip_male], dtype=object), \n",
        "            labels=['Female', 'Male'])\n",
        "plt.show()"
      ],
      "metadata": {
        "colab": {
          "base_uri": "https://localhost:8080/",
          "height": 265
        },
        "id": "YBTEw-22X5SR",
        "outputId": "87e2af81-669b-43ed-89dd-1e0bcb15d5c5"
      },
      "execution_count": null,
      "outputs": [
        {
          "output_type": "display_data",
          "data": {
            "text/plain": [
              "<Figure size 432x288 with 1 Axes>"
            ],
            "image/png": "[encoded data removed]"
          },
          "metadata": {
            "needs_background": "light"
          }
        }
      ]
    },
    {
      "cell_type": "markdown",
      "source": [
        "## Ex 5. 시간별 tip의 box plot을 하나의 subplot에 그리기."
      ],
      "metadata": {
        "id": "PVOgQ6AsuxOg"
      }
    },
    {
      "cell_type": "code",
      "source": [
        "times = tips.time.unique()\n",
        "data = []\n",
        "for t in times:\n",
        "    tip_by_time = tips[tips.time == t].tip\n",
        "    # print(tip_by_time)\n",
        "    data.append(tip_by_time)\n",
        "\n",
        "plt.boxplot(x=np.array(data, dtype=object), labels=times)\n",
        "plt.show()"
      ],
      "metadata": {
        "colab": {
          "base_uri": "https://localhost:8080/",
          "height": 265
        },
        "id": "jGJcJBmUdKn5",
        "outputId": "92daa7d0-e019-43ee-b216-34555c6478af"
      },
      "execution_count": null,
      "outputs": [
        {
          "output_type": "display_data",
          "data": {
            "text/plain": [
              "<Figure size 432x288 with 1 Axes>"
            ],
            "image/png": "[encoded data removed]"
          },
          "metadata": {
            "needs_background": "light"
          }
        }
      ]
    },
    {
      "cell_type": "markdown",
      "source": [
        "## Ex 6. 요일별 tip의 box plot을 하나의 subplot에 그리기."
      ],
      "metadata": {
        "id": "Wnpuu9ftudpv"
      }
    },
    {
      "cell_type": "code",
      "source": [
        "days = tips.day.unique()\n",
        "data = [tips[tips.day == x].tip for x in days]\n",
        "plt.boxplot(x=np.array(data, dtype=object), labels=days)\n",
        "plt.show()"
      ],
      "metadata": {
        "colab": {
          "base_uri": "https://localhost:8080/",
          "height": 265
        },
        "id": "EhEW2YLNe68p",
        "outputId": "02652aeb-3117-499c-9bc4-2e1eabc98025"
      },
      "execution_count": null,
      "outputs": [
        {
          "output_type": "display_data",
          "data": {
            "text/plain": [
              "<Figure size 432x288 with 1 Axes>"
            ],
            "image/png": "[encoded data removed]"
          },
          "metadata": {
            "needs_background": "light"
          }
        }
      ]
    },
    {
      "cell_type": "code",
      "source": [
        "# pd.DataFrame의 그래프 메서드\n",
        "tips.boxplot(column='tip', by='day')\n",
        "plt.show()"
      ],
      "metadata": {
        "colab": {
          "base_uri": "https://localhost:8080/",
          "height": 358
        },
        "id": "Vag862kmfkBG",
        "outputId": "c24bf421-ae1d-4496-db8a-c03c5c1ab4eb"
      },
      "execution_count": null,
      "outputs": [
        {
          "output_type": "stream",
          "name": "stderr",
          "text": [
            "/usr/local/lib/python3.8/dist-packages/matplotlib/cbook/__init__.py:1376: VisibleDeprecationWarning: Creating an ndarray from ragged nested sequences (which is a list-or-tuple of lists-or-tuples-or ndarrays with different lengths or shapes) is deprecated. If you meant to do this, you must specify 'dtype=object' when creating the ndarray.\n",
            "  X = np.atleast_1d(X.T if isinstance(X, np.ndarray) else np.asarray(X))\n"
          ]
        },
        {
          "output_type": "display_data",
          "data": {
            "text/plain": [
              "<Figure size 432x288 with 1 Axes>"
            ],
            "image/png": "[encoded data removed]"
          },
          "metadata": {
            "needs_background": "light"
          }
        }
      ]
    },
    {
      "cell_type": "code",
      "source": [
        "# pd.DataFrameGroupBy의 메서드\n",
        "tips.groupby('day').boxplot(column='tip')\n",
        "plt.show()"
      ],
      "metadata": {
        "colab": {
          "base_uri": "https://localhost:8080/",
          "height": 280
        },
        "id": "I79naulShZCZ",
        "outputId": "351b2102-6e8e-4581-b0c2-cdf6fafa5116"
      },
      "execution_count": null,
      "outputs": [
        {
          "output_type": "display_data",
          "data": {
            "text/plain": [
              "<Figure size 432x288 with 4 Axes>"
            ],
            "image/png": "[encoded data removed]"
          },
          "metadata": {
            "needs_background": "light"
          }
        }
      ]
    },
    {
      "cell_type": "markdown",
      "source": [
        "# Scatter plot(산점도)\n",
        "\n",
        "두 변수 사이의 상관 관계를 파악하기 위해서 사용.\n",
        "\n",
        "`y ~ x`. `y = ax + b`.\n"
      ],
      "metadata": {
        "id": "-kcaHxc9idnz"
      }
    },
    {
      "cell_type": "code",
      "source": [
        "# tip ~ total_bill\n",
        "plt.scatter(x=tips.total_bill, y=tips.tip,\n",
        "            alpha=0.5, c='dodgerblue', s=30, marker='^')\n",
        "#> alpha: 불투명도(0: 투명 ~ 1: 불투명)\n",
        "#> c: 마커(점)의 색깔(color)\n",
        "#> s: 마커 크기(size)\n",
        "#> marker: 마커 모양. 'o', '^', 'v', '*', 's', ...\n",
        "\n",
        "plt.xlabel('Total bill')\n",
        "plt.ylabel('Tip')\n",
        "plt.grid()\n",
        "\n",
        "plt.show()"
      ],
      "metadata": {
        "colab": {
          "base_uri": "https://localhost:8080/",
          "height": 279
        },
        "id": "2Jd63Y9phjvX",
        "outputId": "d552772d-40da-4c52-a51b-2136fd9d66fe"
      },
      "execution_count": null,
      "outputs": [
        {
          "output_type": "display_data",
          "data": {
            "text/plain": [
              "<Figure size 432x288 with 1 Axes>"
            ],
            "image/png": "[encoded data removed]"
          },
          "metadata": {
            "needs_background": "light"
          }
        }
      ]
    },
    {
      "cell_type": "code",
      "source": [
        "# tip ~ size: boxplot과 같이 데이터의 분산을 보여줌.\n",
        "plt.scatter(x=tips['size'], y=tips['tip'], alpha=0.4)\n",
        "\n",
        "plt.xlabel('Size')\n",
        "plt.ylabel('Tip')\n",
        "plt.grid()\n",
        "\n",
        "plt.show()"
      ],
      "metadata": {
        "colab": {
          "base_uri": "https://localhost:8080/",
          "height": 279
        },
        "id": "lqa05R9mjxrn",
        "outputId": "98921324-30bb-4a54-ab16-10474aef9e4a"
      },
      "execution_count": null,
      "outputs": [
        {
          "output_type": "display_data",
          "data": {
            "text/plain": [
              "<Figure size 432x288 with 1 Axes>"
            ],
            "image/png": "[encoded data removed]"
          },
          "metadata": {
            "needs_background": "light"
          }
        }
      ]
    },
    {
      "cell_type": "markdown",
      "source": [
        "# Line plot(선 그래프)\n",
        "\n",
        "주로 시계열 데이터(시간에 따라서 변하는 데이터: 주가, 환율, 날씨, ...)를 시각화.\n"
      ],
      "metadata": {
        "id": "X165894YsJRb"
      }
    },
    {
      "cell_type": "code",
      "source": [
        "np.random.seed(1)\n",
        "df = pd.DataFrame(data={'x1': np.arange(11, 21),\n",
        "                        'x2': np.random.rand(10)})\n",
        "df"
      ],
      "metadata": {
        "colab": {
          "base_uri": "https://localhost:8080/",
          "height": 363
        },
        "id": "PBE2Vr6SssxN",
        "outputId": "127b8c09-552c-40f4-970f-7cc7527d08a9"
      },
      "execution_count": null,
      "outputs": [
        {
          "output_type": "execute_result",
          "data": {
            "text/plain": [
              "   x1        x2\n",
              "0  11  0.417022\n",
              "1  12  0.720324\n",
              "2  13  0.000114\n",
              "3  14  0.302333\n",
              "4  15  0.146756\n",
              "5  16  0.092339\n",
              "6  17  0.186260\n",
              "7  18  0.345561\n",
              "8  19  0.396767\n",
              "9  20  0.538817"
            ],
            "text/html": [
              "\n",
              "  <div id=\"df-da18865e-4f80-4ea2-9d65-865d472ff88b\">\n",
              "    <div class=\"colab-df-container\">\n",
              "      <div>\n",
              "<style scoped>\n",
              "    .dataframe tbody tr th:only-of-type {\n",
              "        vertical-align: middle;\n",
              "    }\n",
              "\n",
              "    .dataframe tbody tr th {\n",
              "        vertical-align: top;\n",
              "    }\n",
              "\n",
              "    .dataframe thead th {\n",
              "        text-align: right;\n",
              "    }\n",
              "</style>\n",
              "<table border=\"1\" class=\"dataframe\">\n",
              "  <thead>\n",
              "    <tr style=\"text-align: right;\">\n",
              "      <th></th>\n",
              "      <th>x1</th>\n",
              "      <th>x2</th>\n",
              "    </tr>\n",
              "  </thead>\n",
              "  <tbody>\n",
              "    <tr>\n",
              "      <th>0</th>\n",
              "      <td>11</td>\n",
              "      <td>0.417022</td>\n",
              "    </tr>\n",
              "    <tr>\n",
              "      <th>1</th>\n",
              "      <td>12</td>\n",
              "      <td>0.720324</td>\n",
              "    </tr>\n",
              "    <tr>\n",
              "      <th>2</th>\n",
              "      <td>13</td>\n",
              "      <td>0.000114</td>\n",
              "    </tr>\n",
              "    <tr>\n",
              "      <th>3</th>\n",
              "      <td>14</td>\n",
              "      <td>0.302333</td>\n",
              "    </tr>\n",
              "    <tr>\n",
              "      <th>4</th>\n",
              "      <td>15</td>\n",
              "      <td>0.146756</td>\n",
              "    </tr>\n",
              "    <tr>\n",
              "      <th>5</th>\n",
              "      <td>16</td>\n",
              "      <td>0.092339</td>\n",
              "    </tr>\n",
              "    <tr>\n",
              "      <th>6</th>\n",
              "      <td>17</td>\n",
              "      <td>0.186260</td>\n",
              "    </tr>\n",
              "    <tr>\n",
              "      <th>7</th>\n",
              "      <td>18</td>\n",
              "      <td>0.345561</td>\n",
              "    </tr>\n",
              "    <tr>\n",
              "      <th>8</th>\n",
              "      <td>19</td>\n",
              "      <td>0.396767</td>\n",
              "    </tr>\n",
              "    <tr>\n",
              "      <th>9</th>\n",
              "      <td>20</td>\n",
              "      <td>0.538817</td>\n",
              "    </tr>\n",
              "  </tbody>\n",
              "</table>\n",
              "</div>\n",
              "      <button class=\"colab-df-convert\" onclick=\"convertToInteractive('df-da18865e-4f80-4ea2-9d65-865d472ff88b')\"\n",
              "              title=\"Convert this dataframe to an interactive table.\"\n",
              "              style=\"display:none;\">\n",
              "        \n",
              "  <svg xmlns=\"http://www.w3.org/2000/svg\" height=\"24px\"viewBox=\"0 0 24 24\"\n",
              "       width=\"24px\">\n",
              "    <path d=\"M0 0h24v24H0V0z\" fill=\"none\"/>\n",
              "    <path d=\"M18.56 5.44l.94 2.06.94-2.06 2.06-.94-2.06-.94-.94-2.06-.94 2.06-2.06.94zm-11 1L8.5 8.5l.94-2.06 2.06-.94-2.06-.94L8.5 2.5l-.94 2.06-2.06.94zm10 10l.94 2.06.94-2.06 2.06-.94-2.06-.94-.94-2.06-.94 2.06-2.06.94z\"/><path d=\"M17.41 7.96l-1.37-1.37c-.4-.4-.92-.59-1.43-.59-.52 0-1.04.2-1.43.59L10.3 9.45l-7.72 7.72c-.78.78-.78 2.05 0 2.83L4 21.41c.39.39.9.59 1.41.59.51 0 1.02-.2 1.41-.59l7.78-7.78 2.81-2.81c.8-.78.8-2.07 0-2.86zM5.41 20L4 18.59l7.72-7.72 1.47 1.35L5.41 20z\"/>\n",
              "  </svg>\n",
              "      </button>\n",
              "      \n",
              "  <style>\n",
              "    .colab-df-container {\n",
              "      display:flex;\n",
              "      flex-wrap:wrap;\n",
              "      gap: 12px;\n",
              "    }\n",
              "\n",
              "    .colab-df-convert {\n",
              "      background-color: #E8F0FE;\n",
              "      border: none;\n",
              "      border-radius: 50%;\n",
              "      cursor: pointer;\n",
              "      display: none;\n",
              "      fill: #1967D2;\n",
              "      height: 32px;\n",
              "      padding: 0 0 0 0;\n",
              "      width: 32px;\n",
              "    }\n",
              "\n",
              "    .colab-df-convert:hover {\n",
              "      background-color: #E2EBFA;\n",
              "      box-shadow: 0px 1px 2px rgba(60, 64, 67, 0.3), 0px 1px 3px 1px rgba(60, 64, 67, 0.15);\n",
              "      fill: #174EA6;\n",
              "    }\n",
              "\n",
              "    [theme=dark] .colab-df-convert {\n",
              "      background-color: #3B4455;\n",
              "      fill: #D2E3FC;\n",
              "    }\n",
              "\n",
              "    [theme=dark] .colab-df-convert:hover {\n",
              "      background-color: #434B5C;\n",
              "      box-shadow: 0px 1px 3px 1px rgba(0, 0, 0, 0.15);\n",
              "      filter: drop-shadow(0px 1px 2px rgba(0, 0, 0, 0.3));\n",
              "      fill: #FFFFFF;\n",
              "    }\n",
              "  </style>\n",
              "\n",
              "      <script>\n",
              "        const buttonEl =\n",
              "          document.querySelector('#df-da18865e-4f80-4ea2-9d65-865d472ff88b button.colab-df-convert');\n",
              "        buttonEl.style.display =\n",
              "          google.colab.kernel.accessAllowed ? 'block' : 'none';\n",
              "\n",
              "        async function convertToInteractive(key) {\n",
              "          const element = document.querySelector('#df-da18865e-4f80-4ea2-9d65-865d472ff88b');\n",
              "          const dataTable =\n",
              "            await google.colab.kernel.invokeFunction('convertToInteractive',\n",
              "                                                     [key], {});\n",
              "          if (!dataTable) return;\n",
              "\n",
              "          const docLinkHtml = 'Like what you see? Visit the ' +\n",
              "            '<a target=\"_blank\" href=https://colab.research.google.com/notebooks/data_table.ipynb>data table notebook</a>'\n",
              "            + ' to learn more about interactive tables.';\n",
              "          element.innerHTML = '';\n",
              "          dataTable['output_type'] = 'display_data';\n",
              "          await google.colab.output.renderOutput(dataTable, element);\n",
              "          const docLink = document.createElement('div');\n",
              "          docLink.innerHTML = docLinkHtml;\n",
              "          element.appendChild(docLink);\n",
              "        }\n",
              "      </script>\n",
              "    </div>\n",
              "  </div>\n",
              "  "
            ]
          },
          "metadata": {},
          "execution_count": 176
        }
      ]
    },
    {
      "cell_type": "code",
      "source": [
        "# x2 ~ x1\n",
        "plt.plot(df.x1, df.x2, 'ko--')\n",
        "# plt.plot([x], y, [fmt])\n",
        "# param fmt: 문자열. (1) 선과 마커의 색깔, (2) 마커의 모양, (3) 선의 스타일을 설정.\n",
        "#  (1) 색깔(color): b(lue), (blac)k, r(ed), g(reen), ...\n",
        "#  (2) 마커 모양(marker): o, s, ^, v, *, +, ...\n",
        "#  (3) 선 스타일(linestyle): -(solid line, 직선), :(dotted line, 점선), --(dashed line), ...\n",
        "\n",
        "plt.grid()\n",
        "plt.show()"
      ],
      "metadata": {
        "colab": {
          "base_uri": "https://localhost:8080/",
          "height": 265
        },
        "id": "VilhGrFHtIqX",
        "outputId": "973558c2-dac3-4bef-b13a-3947177247f6"
      },
      "execution_count": null,
      "outputs": [
        {
          "output_type": "display_data",
          "data": {
            "text/plain": [
              "<Figure size 432x288 with 1 Axes>"
            ],
            "image/png": "[encoded data removed]"
          },
          "metadata": {
            "needs_background": "light"
          }
        }
      ]
    },
    {
      "cell_type": "code",
      "source": [
        "# x2 ~ index\n",
        "plt.plot(df.x2, c='red', marker='v', linestyle='dotted')\n",
        "\n",
        "plt.grid()\n",
        "plt.show()"
      ],
      "metadata": {
        "colab": {
          "base_uri": "https://localhost:8080/",
          "height": 265
        },
        "id": "V-7apr_hxS1C",
        "outputId": "b9c51457-36fe-4607-879e-5ce5edb23e87"
      },
      "execution_count": null,
      "outputs": [
        {
          "output_type": "display_data",
          "data": {
            "text/plain": [
              "<Figure size 432x288 with 1 Axes>"
            ],
            "image/png": "[encoded data removed]"
          },
          "metadata": {
            "needs_background": "light"
          }
        }
      ]
    },
    {
      "cell_type": "markdown",
      "source": [
        "하나의 subplot에 여러개의 선 그래프 그리기"
      ],
      "metadata": {
        "id": "o6ztMKgrDT6M"
      }
    },
    {
      "cell_type": "code",
      "source": [
        "np.random.seed(1)\n",
        "df = pd.DataFrame(data={'x': np.arange(1, 11),\n",
        "                        'y1': np.random.rand(10),\n",
        "                        'y2': np.random.rand(10),\n",
        "                        'y3': np.random.rand(10)})\n",
        "df"
      ],
      "metadata": {
        "colab": {
          "base_uri": "https://localhost:8080/",
          "height": 363
        },
        "id": "VRWRDxLSxdkw",
        "outputId": "b751bdd0-d3df-4617-efa7-7bda48f66b2a"
      },
      "execution_count": null,
      "outputs": [
        {
          "output_type": "execute_result",
          "data": {
            "text/plain": [
              "    x        y1        y2        y3\n",
              "0   1  0.417022  0.419195  0.800745\n",
              "1   2  0.720324  0.685220  0.968262\n",
              "2   3  0.000114  0.204452  0.313424\n",
              "3   4  0.302333  0.878117  0.692323\n",
              "4   5  0.146756  0.027388  0.876389\n",
              "5   6  0.092339  0.670468  0.894607\n",
              "6   7  0.186260  0.417305  0.085044\n",
              "7   8  0.345561  0.558690  0.039055\n",
              "8   9  0.396767  0.140387  0.169830\n",
              "9  10  0.538817  0.198101  0.878143"
            ],
            "text/html": [
              "\n",
              "  <div id=\"df-9f7eeb2c-7b81-4688-84fa-12c4f8871e8a\">\n",
              "    <div class=\"colab-df-container\">\n",
              "      <div>\n",
              "<style scoped>\n",
              "    .dataframe tbody tr th:only-of-type {\n",
              "        vertical-align: middle;\n",
              "    }\n",
              "\n",
              "    .dataframe tbody tr th {\n",
              "        vertical-align: top;\n",
              "    }\n",
              "\n",
              "    .dataframe thead th {\n",
              "        text-align: right;\n",
              "    }\n",
              "</style>\n",
              "<table border=\"1\" class=\"dataframe\">\n",
              "  <thead>\n",
              "    <tr style=\"text-align: right;\">\n",
              "      <th></th>\n",
              "      <th>x</th>\n",
              "      <th>y1</th>\n",
              "      <th>y2</th>\n",
              "      <th>y3</th>\n",
              "    </tr>\n",
              "  </thead>\n",
              "  <tbody>\n",
              "    <tr>\n",
              "      <th>0</th>\n",
              "      <td>1</td>\n",
              "      <td>0.417022</td>\n",
              "      <td>0.419195</td>\n",
              "      <td>0.800745</td>\n",
              "    </tr>\n",
              "    <tr>\n",
              "      <th>1</th>\n",
              "      <td>2</td>\n",
              "      <td>0.720324</td>\n",
              "      <td>0.685220</td>\n",
              "      <td>0.968262</td>\n",
              "    </tr>\n",
              "    <tr>\n",
              "      <th>2</th>\n",
              "      <td>3</td>\n",
              "      <td>0.000114</td>\n",
              "      <td>0.204452</td>\n",
              "      <td>0.313424</td>\n",
              "    </tr>\n",
              "    <tr>\n",
              "      <th>3</th>\n",
              "      <td>4</td>\n",
              "      <td>0.302333</td>\n",
              "      <td>0.878117</td>\n",
              "      <td>0.692323</td>\n",
              "    </tr>\n",
              "    <tr>\n",
              "      <th>4</th>\n",
              "      <td>5</td>\n",
              "      <td>0.146756</td>\n",
              "      <td>0.027388</td>\n",
              "      <td>0.876389</td>\n",
              "    </tr>\n",
              "    <tr>\n",
              "      <th>5</th>\n",
              "      <td>6</td>\n",
              "      <td>0.092339</td>\n",
              "      <td>0.670468</td>\n",
              "      <td>0.894607</td>\n",
              "    </tr>\n",
              "    <tr>\n",
              "      <th>6</th>\n",
              "      <td>7</td>\n",
              "      <td>0.186260</td>\n",
              "      <td>0.417305</td>\n",
              "      <td>0.085044</td>\n",
              "    </tr>\n",
              "    <tr>\n",
              "      <th>7</th>\n",
              "      <td>8</td>\n",
              "      <td>0.345561</td>\n",
              "      <td>0.558690</td>\n",
              "      <td>0.039055</td>\n",
              "    </tr>\n",
              "    <tr>\n",
              "      <th>8</th>\n",
              "      <td>9</td>\n",
              "      <td>0.396767</td>\n",
              "      <td>0.140387</td>\n",
              "      <td>0.169830</td>\n",
              "    </tr>\n",
              "    <tr>\n",
              "      <th>9</th>\n",
              "      <td>10</td>\n",
              "      <td>0.538817</td>\n",
              "      <td>0.198101</td>\n",
              "      <td>0.878143</td>\n",
              "    </tr>\n",
              "  </tbody>\n",
              "</table>\n",
              "</div>\n",
              "      <button class=\"colab-df-convert\" onclick=\"convertToInteractive('df-9f7eeb2c-7b81-4688-84fa-12c4f8871e8a')\"\n",
              "              title=\"Convert this dataframe to an interactive table.\"\n",
              "              style=\"display:none;\">\n",
              "        \n",
              "  <svg xmlns=\"http://www.w3.org/2000/svg\" height=\"24px\"viewBox=\"0 0 24 24\"\n",
              "       width=\"24px\">\n",
              "    <path d=\"M0 0h24v24H0V0z\" fill=\"none\"/>\n",
              "    <path d=\"M18.56 5.44l.94 2.06.94-2.06 2.06-.94-2.06-.94-.94-2.06-.94 2.06-2.06.94zm-11 1L8.5 8.5l.94-2.06 2.06-.94-2.06-.94L8.5 2.5l-.94 2.06-2.06.94zm10 10l.94 2.06.94-2.06 2.06-.94-2.06-.94-.94-2.06-.94 2.06-2.06.94z\"/><path d=\"M17.41 7.96l-1.37-1.37c-.4-.4-.92-.59-1.43-.59-.52 0-1.04.2-1.43.59L10.3 9.45l-7.72 7.72c-.78.78-.78 2.05 0 2.83L4 21.41c.39.39.9.59 1.41.59.51 0 1.02-.2 1.41-.59l7.78-7.78 2.81-2.81c.8-.78.8-2.07 0-2.86zM5.41 20L4 18.59l7.72-7.72 1.47 1.35L5.41 20z\"/>\n",
              "  </svg>\n",
              "      </button>\n",
              "      \n",
              "  <style>\n",
              "    .colab-df-container {\n",
              "      display:flex;\n",
              "      flex-wrap:wrap;\n",
              "      gap: 12px;\n",
              "    }\n",
              "\n",
              "    .colab-df-convert {\n",
              "      background-color: #E8F0FE;\n",
              "      border: none;\n",
              "      border-radius: 50%;\n",
              "      cursor: pointer;\n",
              "      display: none;\n",
              "      fill: #1967D2;\n",
              "      height: 32px;\n",
              "      padding: 0 0 0 0;\n",
              "      width: 32px;\n",
              "    }\n",
              "\n",
              "    .colab-df-convert:hover {\n",
              "      background-color: #E2EBFA;\n",
              "      box-shadow: 0px 1px 2px rgba(60, 64, 67, 0.3), 0px 1px 3px 1px rgba(60, 64, 67, 0.15);\n",
              "      fill: #174EA6;\n",
              "    }\n",
              "\n",
              "    [theme=dark] .colab-df-convert {\n",
              "      background-color: #3B4455;\n",
              "      fill: #D2E3FC;\n",
              "    }\n",
              "\n",
              "    [theme=dark] .colab-df-convert:hover {\n",
              "      background-color: #434B5C;\n",
              "      box-shadow: 0px 1px 3px 1px rgba(0, 0, 0, 0.15);\n",
              "      filter: drop-shadow(0px 1px 2px rgba(0, 0, 0, 0.3));\n",
              "      fill: #FFFFFF;\n",
              "    }\n",
              "  </style>\n",
              "\n",
              "      <script>\n",
              "        const buttonEl =\n",
              "          document.querySelector('#df-9f7eeb2c-7b81-4688-84fa-12c4f8871e8a button.colab-df-convert');\n",
              "        buttonEl.style.display =\n",
              "          google.colab.kernel.accessAllowed ? 'block' : 'none';\n",
              "\n",
              "        async function convertToInteractive(key) {\n",
              "          const element = document.querySelector('#df-9f7eeb2c-7b81-4688-84fa-12c4f8871e8a');\n",
              "          const dataTable =\n",
              "            await google.colab.kernel.invokeFunction('convertToInteractive',\n",
              "                                                     [key], {});\n",
              "          if (!dataTable) return;\n",
              "\n",
              "          const docLinkHtml = 'Like what you see? Visit the ' +\n",
              "            '<a target=\"_blank\" href=https://colab.research.google.com/notebooks/data_table.ipynb>data table notebook</a>'\n",
              "            + ' to learn more about interactive tables.';\n",
              "          element.innerHTML = '';\n",
              "          dataTable['output_type'] = 'display_data';\n",
              "          await google.colab.output.renderOutput(dataTable, element);\n",
              "          const docLink = document.createElement('div');\n",
              "          docLink.innerHTML = docLinkHtml;\n",
              "          element.appendChild(docLink);\n",
              "        }\n",
              "      </script>\n",
              "    </div>\n",
              "  </div>\n",
              "  "
            ]
          },
          "metadata": {},
          "execution_count": 179
        }
      ]
    },
    {
      "cell_type": "code",
      "source": [
        "# y1 ~ x\n",
        "plt.plot(df.x, df.y1, 'bo-', label='y1')\n",
        "# y2 ~ x\n",
        "plt.plot(df.x, df.y2, 'rs--', label='y2')\n",
        "# y3 ~ x\n",
        "plt.plot(df.x, df.y3, 'g+:', label='y3')\n",
        "\n",
        "plt.legend()  # 범례: 각 plot 함수의 label을 그래프에 추가.\n",
        "plt.show()"
      ],
      "metadata": {
        "colab": {
          "base_uri": "https://localhost:8080/",
          "height": 266
        },
        "id": "ZZ0bpvuAEABx",
        "outputId": "e12074da-9af0-4953-ca80-4b4d715c86ce"
      },
      "execution_count": null,
      "outputs": [
        {
          "output_type": "display_data",
          "data": {
            "text/plain": [
              "<Figure size 432x288 with 1 Axes>"
            ],
            "image/png": "[encoded data removed]"
          },
          "metadata": {
            "needs_background": "light"
          }
        }
      ]
    },
    {
      "cell_type": "markdown",
      "source": [
        "# Exercies"
      ],
      "metadata": {
        "id": "cuXiuNBwGBY8"
      }
    },
    {
      "cell_type": "markdown",
      "source": [
        "Ex 1.\n",
        "\n",
        "* 4개의 subplot을 2x2 모양으로 배치.\n",
        "* 4개의 subplot에 각각 성별 빈도수, 흡연여부 빈도수, 요일 빈도수, 시간 빈도수 그래프를 그리세요.\n"
      ],
      "metadata": {
        "id": "WEvJjjfKGEEr"
      }
    },
    {
      "cell_type": "code",
      "source": [
        "gender_counts = tips.sex.value_counts()\n",
        "smoker_counts = tips.smoker.value_counts()\n",
        "day_counts = tips.day.value_counts()\n",
        "time_counts = tips.time.value_counts()"
      ],
      "metadata": {
        "id": "fXEHr2bnLzt7"
      },
      "execution_count": null,
      "outputs": []
    },
    {
      "cell_type": "code",
      "source": [
        "fig, ax = plt.subplots(nrows=2, ncols=2, figsize=(8, 8))\n",
        "\n",
        "ax[0, 0].bar(x=gender_counts.index, height=gender_counts.values)\n",
        "ax[0, 1].bar(x=smoker_counts.index, height=smoker_counts.values)\n",
        "ax[1, 0].bar(x=day_counts.index, height=day_counts.values)\n",
        "ax[1, 1].bar(x=time_counts.index, height=time_counts.values)\n",
        "\n",
        "for i in range(2):  # nrows\n",
        "    for j in range(2):  # ncols\n",
        "        ax[i, j].grid()\n",
        "\n",
        "plt.show()"
      ],
      "metadata": {
        "colab": {
          "base_uri": "https://localhost:8080/",
          "height": 483
        },
        "id": "ZpExsgfBKxRT",
        "outputId": "4133e663-36ad-4927-d837-900e1ec8e4bc"
      },
      "execution_count": null,
      "outputs": [
        {
          "output_type": "display_data",
          "data": {
            "text/plain": [
              "<Figure size 576x576 with 4 Axes>"
            ],
            "image/png": "[encoded data removed]"
          },
          "metadata": {
            "needs_background": "light"
          }
        }
      ]
    },
    {
      "cell_type": "markdown",
      "source": [
        "Ex 2.\n",
        "\n",
        "* `tip ~ total_bill`의 상관관계를 scatter plot으로 그리세요.\n",
        "* 성별로 점의 색깔을 다르게 표현하세요.\n",
        "* 범례를 표시.\n"
      ],
      "metadata": {
        "id": "QryTr8b-HNSj"
      }
    },
    {
      "cell_type": "code",
      "source": [
        "tips_male = tips[tips.sex == 'Male']  # 남성 부분집합\n",
        "tips_female = tips[tips.sex == 'Female']  # 여성 부분집합"
      ],
      "metadata": {
        "id": "z_kWgBcrN06j"
      },
      "execution_count": null,
      "outputs": []
    },
    {
      "cell_type": "code",
      "source": [
        "# 남성 데이터 산점도\n",
        "plt.scatter(x=tips_male.total_bill, y=tips_male.tip, alpha=0.4, label='Male')\n",
        "# 여성 데이터 산점도\n",
        "plt.scatter(x=tips_female.total_bill, y=tips_female.tip, alpha=0.4, label='Female')\n",
        "\n",
        "plt.xlabel('Total bill')\n",
        "plt.ylabel('Tip')\n",
        "plt.legend()  # 범례\n",
        "plt.show()"
      ],
      "metadata": {
        "colab": {
          "base_uri": "https://localhost:8080/",
          "height": 279
        },
        "id": "PRRF1aOVNkOr",
        "outputId": "c316a2e2-b1dc-4118-e137-9dbb122e69bd"
      },
      "execution_count": null,
      "outputs": [
        {
          "output_type": "display_data",
          "data": {
            "text/plain": [
              "<Figure size 432x288 with 1 Axes>"
            ],
            "image/png": "[encoded data removed]"
          },
          "metadata": {
            "needs_background": "light"
          }
        }
      ]
    },
    {
      "cell_type": "markdown",
      "source": [
        "Ex 3.\n",
        "\n",
        "* `tip ~ total_bill`의 상관관계를 scatter plot으로 그리세요.\n",
        "* 요일별로 점의 색깔, 모양을 다르게 표현하세요.\n",
        "* 범례를 표시.\n"
      ],
      "metadata": {
        "id": "k_q1uRxhGrub"
      }
    },
    {
      "cell_type": "code",
      "source": [
        "days = tips.day.unique()  # 요일들\n",
        "markers = ['o', 'v', 's', '+']  # 마커(점)의 모양\n",
        "\n",
        "for d, m in zip(days, markers):\n",
        "    subset = tips[tips.day == d]\n",
        "    plt.scatter(x=subset.total_bill, y=subset.tip, label=d, alpha=0.5, marker=m)\n",
        "\n",
        "plt.legend()\n",
        "plt.show()"
      ],
      "metadata": {
        "colab": {
          "base_uri": "https://localhost:8080/",
          "height": 265
        },
        "id": "-HcYDs9JGDfJ",
        "outputId": "aac39c73-d122-446c-d225-519d73b6a2ed"
      },
      "execution_count": null,
      "outputs": [
        {
          "output_type": "display_data",
          "data": {
            "text/plain": [
              "<Figure size 432x288 with 1 Axes>"
            ],
            "image/png": "[encoded data removed]"
          },
          "metadata": {
            "needs_background": "light"
          }
        }
      ]
    },
    {
      "cell_type": "code",
      "source": [],
      "metadata": {
        "id": "UZezDoEFPdu5"
      },
      "execution_count": null,
      "outputs": []
    }
  ]
}